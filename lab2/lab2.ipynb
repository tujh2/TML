{
 "cells": [
  {
   "cell_type": "markdown",
   "id": "numerous-profile",
   "metadata": {},
   "source": [
    "# Обработка пропусков в данных, кодирование категориальных признаков, масштабирование данных."
   ]
  },
  {
   "cell_type": "code",
   "execution_count": 1,
   "id": "continental-disability",
   "metadata": {},
   "outputs": [],
   "source": [
    "import numpy as np\n",
    "import pandas as pd\n",
    "import seaborn as sns\n",
    "import matplotlib.pyplot as plt\n",
    "%matplotlib inline \n",
    "sns.set(style=\"ticks\")"
   ]
  },
  {
   "cell_type": "markdown",
   "id": "tracked-breakdown",
   "metadata": {},
   "source": [
    "Датасет был создан с помощью автогенерации."
   ]
  },
  {
   "cell_type": "code",
   "execution_count": 2,
   "id": "approved-highlight",
   "metadata": {},
   "outputs": [],
   "source": [
    "\n",
    "data = pd.read_csv('data/data.csv', sep=\",\")"
   ]
  },
  {
   "cell_type": "code",
   "execution_count": 3,
   "id": "pretty-matter",
   "metadata": {},
   "outputs": [
    {
     "data": {
      "text/plain": [
       "(90221, 10)"
      ]
     },
     "execution_count": 3,
     "metadata": {},
     "output_type": "execute_result"
    }
   ],
   "source": [
    "data.shape"
   ]
  },
  {
   "cell_type": "code",
   "execution_count": 4,
   "id": "expanded-census",
   "metadata": {},
   "outputs": [
    {
     "data": {
      "text/plain": [
       "order_id        float64\n",
       "make_id         float64\n",
       "time_id         float64\n",
       "this_id         float64\n",
       "my_float        float64\n",
       "not_null        float64\n",
       "not_null_int      int64\n",
       "not_null_str     object\n",
       "customer         object\n",
       "paid             object\n",
       "dtype: object"
      ]
     },
     "execution_count": 4,
     "metadata": {},
     "output_type": "execute_result"
    }
   ],
   "source": [
    "data.dtypes"
   ]
  },
  {
   "cell_type": "code",
   "execution_count": 5,
   "id": "dynamic-trailer",
   "metadata": {},
   "outputs": [
    {
     "data": {
      "text/plain": [
       "order_id         6332\n",
       "make_id         16949\n",
       "time_id          1794\n",
       "this_id          9021\n",
       "my_float        19887\n",
       "not_null            0\n",
       "not_null_int        0\n",
       "not_null_str        0\n",
       "customer         2719\n",
       "paid            36147\n",
       "dtype: int64"
      ]
     },
     "execution_count": 5,
     "metadata": {},
     "output_type": "execute_result"
    }
   ],
   "source": [
    "data.isnull().sum()"
   ]
  },
  {
   "cell_type": "code",
   "execution_count": 6,
   "id": "prospective-ideal",
   "metadata": {},
   "outputs": [
    {
     "data": {
      "text/html": [
       "<div>\n",
       "<style scoped>\n",
       "    .dataframe tbody tr th:only-of-type {\n",
       "        vertical-align: middle;\n",
       "    }\n",
       "\n",
       "    .dataframe tbody tr th {\n",
       "        vertical-align: top;\n",
       "    }\n",
       "\n",
       "    .dataframe thead th {\n",
       "        text-align: right;\n",
       "    }\n",
       "</style>\n",
       "<table border=\"1\" class=\"dataframe\">\n",
       "  <thead>\n",
       "    <tr style=\"text-align: right;\">\n",
       "      <th></th>\n",
       "      <th>order_id</th>\n",
       "      <th>make_id</th>\n",
       "      <th>time_id</th>\n",
       "      <th>this_id</th>\n",
       "      <th>my_float</th>\n",
       "      <th>not_null</th>\n",
       "      <th>not_null_int</th>\n",
       "      <th>not_null_str</th>\n",
       "      <th>customer</th>\n",
       "      <th>paid</th>\n",
       "    </tr>\n",
       "  </thead>\n",
       "  <tbody>\n",
       "    <tr>\n",
       "      <th>0</th>\n",
       "      <td>363.0</td>\n",
       "      <td>624.0</td>\n",
       "      <td>1232.0</td>\n",
       "      <td>989.0</td>\n",
       "      <td>71.440975</td>\n",
       "      <td>296.874883</td>\n",
       "      <td>661</td>\n",
       "      <td>Harley Wolf</td>\n",
       "      <td>Botsford and Terry Group</td>\n",
       "      <td>NaN</td>\n",
       "    </tr>\n",
       "    <tr>\n",
       "      <th>1</th>\n",
       "      <td>1243.0</td>\n",
       "      <td>1966.0</td>\n",
       "      <td>1547.0</td>\n",
       "      <td>949.0</td>\n",
       "      <td>155.029280</td>\n",
       "      <td>604.437888</td>\n",
       "      <td>698</td>\n",
       "      <td>William Reynolds</td>\n",
       "      <td>Waters LLC</td>\n",
       "      <td>False</td>\n",
       "    </tr>\n",
       "    <tr>\n",
       "      <th>2</th>\n",
       "      <td>1140.0</td>\n",
       "      <td>NaN</td>\n",
       "      <td>1909.0</td>\n",
       "      <td>937.0</td>\n",
       "      <td>1472.249997</td>\n",
       "      <td>954.945309</td>\n",
       "      <td>1626</td>\n",
       "      <td>Beverly Kling</td>\n",
       "      <td>Aufderhar and Sons</td>\n",
       "      <td>False</td>\n",
       "    </tr>\n",
       "    <tr>\n",
       "      <th>3</th>\n",
       "      <td>1417.0</td>\n",
       "      <td>1990.0</td>\n",
       "      <td>1252.0</td>\n",
       "      <td>406.0</td>\n",
       "      <td>NaN</td>\n",
       "      <td>344.048663</td>\n",
       "      <td>1151</td>\n",
       "      <td>Isom Stiedemann</td>\n",
       "      <td>Morissette Group</td>\n",
       "      <td>False</td>\n",
       "    </tr>\n",
       "    <tr>\n",
       "      <th>4</th>\n",
       "      <td>853.0</td>\n",
       "      <td>1075.0</td>\n",
       "      <td>1814.0</td>\n",
       "      <td>229.0</td>\n",
       "      <td>65.752680</td>\n",
       "      <td>818.549936</td>\n",
       "      <td>1084</td>\n",
       "      <td>Casper McLaughlin</td>\n",
       "      <td>Windler and Langosh Group</td>\n",
       "      <td>False</td>\n",
       "    </tr>\n",
       "  </tbody>\n",
       "</table>\n",
       "</div>"
      ],
      "text/plain": [
       "   order_id  make_id  time_id  this_id     my_float    not_null  not_null_int  \\\n",
       "0     363.0    624.0   1232.0    989.0    71.440975  296.874883           661   \n",
       "1    1243.0   1966.0   1547.0    949.0   155.029280  604.437888           698   \n",
       "2    1140.0      NaN   1909.0    937.0  1472.249997  954.945309          1626   \n",
       "3    1417.0   1990.0   1252.0    406.0          NaN  344.048663          1151   \n",
       "4     853.0   1075.0   1814.0    229.0    65.752680  818.549936          1084   \n",
       "\n",
       "        not_null_str                   customer   paid  \n",
       "0        Harley Wolf   Botsford and Terry Group    NaN  \n",
       "1   William Reynolds                 Waters LLC  False  \n",
       "2      Beverly Kling         Aufderhar and Sons  False  \n",
       "3    Isom Stiedemann           Morissette Group  False  \n",
       "4  Casper McLaughlin  Windler and Langosh Group  False  "
      ]
     },
     "execution_count": 6,
     "metadata": {},
     "output_type": "execute_result"
    }
   ],
   "source": [
    "data.head()"
   ]
  },
  {
   "cell_type": "code",
   "execution_count": 7,
   "id": "instant-blame",
   "metadata": {},
   "outputs": [
    {
     "name": "stdout",
     "output_type": "stream",
     "text": [
      "Всего строк: 90221\n"
     ]
    }
   ],
   "source": [
    "total_count = data.shape[0]\n",
    "print('Всего строк: {}'.format(total_count))"
   ]
  },
  {
   "cell_type": "markdown",
   "id": "individual-midnight",
   "metadata": {},
   "source": [
    "# Обработка пропусков в данных"
   ]
  },
  {
   "cell_type": "code",
   "execution_count": 8,
   "id": "signal-operations",
   "metadata": {},
   "outputs": [
    {
     "data": {
      "text/html": [
       "<div>\n",
       "<style scoped>\n",
       "    .dataframe tbody tr th:only-of-type {\n",
       "        vertical-align: middle;\n",
       "    }\n",
       "\n",
       "    .dataframe tbody tr th {\n",
       "        vertical-align: top;\n",
       "    }\n",
       "\n",
       "    .dataframe thead th {\n",
       "        text-align: right;\n",
       "    }\n",
       "</style>\n",
       "<table border=\"1\" class=\"dataframe\">\n",
       "  <thead>\n",
       "    <tr style=\"text-align: right;\">\n",
       "      <th></th>\n",
       "      <th>not_null</th>\n",
       "      <th>not_null_int</th>\n",
       "      <th>not_null_str</th>\n",
       "    </tr>\n",
       "  </thead>\n",
       "  <tbody>\n",
       "    <tr>\n",
       "      <th>0</th>\n",
       "      <td>296.874883</td>\n",
       "      <td>661</td>\n",
       "      <td>Harley Wolf</td>\n",
       "    </tr>\n",
       "    <tr>\n",
       "      <th>1</th>\n",
       "      <td>604.437888</td>\n",
       "      <td>698</td>\n",
       "      <td>William Reynolds</td>\n",
       "    </tr>\n",
       "    <tr>\n",
       "      <th>2</th>\n",
       "      <td>954.945309</td>\n",
       "      <td>1626</td>\n",
       "      <td>Beverly Kling</td>\n",
       "    </tr>\n",
       "    <tr>\n",
       "      <th>3</th>\n",
       "      <td>344.048663</td>\n",
       "      <td>1151</td>\n",
       "      <td>Isom Stiedemann</td>\n",
       "    </tr>\n",
       "    <tr>\n",
       "      <th>4</th>\n",
       "      <td>818.549936</td>\n",
       "      <td>1084</td>\n",
       "      <td>Casper McLaughlin</td>\n",
       "    </tr>\n",
       "  </tbody>\n",
       "</table>\n",
       "</div>"
      ],
      "text/plain": [
       "     not_null  not_null_int       not_null_str\n",
       "0  296.874883           661        Harley Wolf\n",
       "1  604.437888           698   William Reynolds\n",
       "2  954.945309          1626      Beverly Kling\n",
       "3  344.048663          1151    Isom Stiedemann\n",
       "4  818.549936          1084  Casper McLaughlin"
      ]
     },
     "execution_count": 8,
     "metadata": {},
     "output_type": "execute_result"
    }
   ],
   "source": [
    "# Удаление колонок, содержащих пустые значения\n",
    "data_new_1 = data.dropna(axis=1, how='any')\n",
    "(data.shape, data_new_1.shape)\n",
    "data_new_1.head()"
   ]
  },
  {
   "cell_type": "code",
   "execution_count": 9,
   "id": "southwest-canyon",
   "metadata": {},
   "outputs": [
    {
     "data": {
      "text/html": [
       "<div>\n",
       "<style scoped>\n",
       "    .dataframe tbody tr th:only-of-type {\n",
       "        vertical-align: middle;\n",
       "    }\n",
       "\n",
       "    .dataframe tbody tr th {\n",
       "        vertical-align: top;\n",
       "    }\n",
       "\n",
       "    .dataframe thead th {\n",
       "        text-align: right;\n",
       "    }\n",
       "</style>\n",
       "<table border=\"1\" class=\"dataframe\">\n",
       "  <thead>\n",
       "    <tr style=\"text-align: right;\">\n",
       "      <th></th>\n",
       "      <th>order_id</th>\n",
       "      <th>make_id</th>\n",
       "      <th>time_id</th>\n",
       "      <th>this_id</th>\n",
       "      <th>my_float</th>\n",
       "      <th>not_null</th>\n",
       "      <th>not_null_int</th>\n",
       "      <th>not_null_str</th>\n",
       "      <th>customer</th>\n",
       "      <th>paid</th>\n",
       "    </tr>\n",
       "  </thead>\n",
       "  <tbody>\n",
       "    <tr>\n",
       "      <th>1</th>\n",
       "      <td>1243.0</td>\n",
       "      <td>1966.0</td>\n",
       "      <td>1547.0</td>\n",
       "      <td>949.0</td>\n",
       "      <td>155.029280</td>\n",
       "      <td>604.437888</td>\n",
       "      <td>698</td>\n",
       "      <td>William Reynolds</td>\n",
       "      <td>Waters LLC</td>\n",
       "      <td>False</td>\n",
       "    </tr>\n",
       "    <tr>\n",
       "      <th>4</th>\n",
       "      <td>853.0</td>\n",
       "      <td>1075.0</td>\n",
       "      <td>1814.0</td>\n",
       "      <td>229.0</td>\n",
       "      <td>65.752680</td>\n",
       "      <td>818.549936</td>\n",
       "      <td>1084</td>\n",
       "      <td>Casper McLaughlin</td>\n",
       "      <td>Windler and Langosh Group</td>\n",
       "      <td>False</td>\n",
       "    </tr>\n",
       "    <tr>\n",
       "      <th>5</th>\n",
       "      <td>1145.0</td>\n",
       "      <td>696.0</td>\n",
       "      <td>323.0</td>\n",
       "      <td>180.0</td>\n",
       "      <td>662.503900</td>\n",
       "      <td>1476.470927</td>\n",
       "      <td>48</td>\n",
       "      <td>Ricardo Waters</td>\n",
       "      <td>Pouros LLC</td>\n",
       "      <td>False</td>\n",
       "    </tr>\n",
       "    <tr>\n",
       "      <th>6</th>\n",
       "      <td>1807.0</td>\n",
       "      <td>919.0</td>\n",
       "      <td>758.0</td>\n",
       "      <td>1351.0</td>\n",
       "      <td>970.812968</td>\n",
       "      <td>1885.093726</td>\n",
       "      <td>659</td>\n",
       "      <td>Shaina Reichel</td>\n",
       "      <td>Armstrong and Leuschke and Sons</td>\n",
       "      <td>False</td>\n",
       "    </tr>\n",
       "    <tr>\n",
       "      <th>8</th>\n",
       "      <td>772.0</td>\n",
       "      <td>1435.0</td>\n",
       "      <td>1605.0</td>\n",
       "      <td>306.0</td>\n",
       "      <td>569.528146</td>\n",
       "      <td>1640.974285</td>\n",
       "      <td>60</td>\n",
       "      <td>Buddy Gottlieb</td>\n",
       "      <td>Bruen and Sons</td>\n",
       "      <td>False</td>\n",
       "    </tr>\n",
       "  </tbody>\n",
       "</table>\n",
       "</div>"
      ],
      "text/plain": [
       "   order_id  make_id  time_id  this_id    my_float     not_null  not_null_int  \\\n",
       "1    1243.0   1966.0   1547.0    949.0  155.029280   604.437888           698   \n",
       "4     853.0   1075.0   1814.0    229.0   65.752680   818.549936          1084   \n",
       "5    1145.0    696.0    323.0    180.0  662.503900  1476.470927            48   \n",
       "6    1807.0    919.0    758.0   1351.0  970.812968  1885.093726           659   \n",
       "8     772.0   1435.0   1605.0    306.0  569.528146  1640.974285            60   \n",
       "\n",
       "        not_null_str                         customer   paid  \n",
       "1   William Reynolds                       Waters LLC  False  \n",
       "4  Casper McLaughlin        Windler and Langosh Group  False  \n",
       "5     Ricardo Waters                       Pouros LLC  False  \n",
       "6     Shaina Reichel  Armstrong and Leuschke and Sons  False  \n",
       "8     Buddy Gottlieb                   Bruen and Sons  False  "
      ]
     },
     "execution_count": 9,
     "metadata": {},
     "output_type": "execute_result"
    }
   ],
   "source": [
    "# Удаление строк, содержащих пустые значения\n",
    "data_new_2 = data.dropna(axis=0, how='any')\n",
    "(data.shape, data_new_2.shape)\n",
    "data_new_2.head()"
   ]
  },
  {
   "cell_type": "code",
   "execution_count": 10,
   "id": "another-analysis",
   "metadata": {},
   "outputs": [
    {
     "data": {
      "text/html": [
       "<div>\n",
       "<style scoped>\n",
       "    .dataframe tbody tr th:only-of-type {\n",
       "        vertical-align: middle;\n",
       "    }\n",
       "\n",
       "    .dataframe tbody tr th {\n",
       "        vertical-align: top;\n",
       "    }\n",
       "\n",
       "    .dataframe thead th {\n",
       "        text-align: right;\n",
       "    }\n",
       "</style>\n",
       "<table border=\"1\" class=\"dataframe\">\n",
       "  <thead>\n",
       "    <tr style=\"text-align: right;\">\n",
       "      <th></th>\n",
       "      <th>order_id</th>\n",
       "      <th>make_id</th>\n",
       "      <th>time_id</th>\n",
       "      <th>this_id</th>\n",
       "      <th>my_float</th>\n",
       "      <th>not_null</th>\n",
       "      <th>not_null_int</th>\n",
       "      <th>not_null_str</th>\n",
       "      <th>customer</th>\n",
       "      <th>paid</th>\n",
       "    </tr>\n",
       "  </thead>\n",
       "  <tbody>\n",
       "    <tr>\n",
       "      <th>0</th>\n",
       "      <td>363.0</td>\n",
       "      <td>624.0</td>\n",
       "      <td>1232.0</td>\n",
       "      <td>989.0</td>\n",
       "      <td>71.440975</td>\n",
       "      <td>296.874883</td>\n",
       "      <td>661</td>\n",
       "      <td>Harley Wolf</td>\n",
       "      <td>Botsford and Terry Group</td>\n",
       "      <td>0</td>\n",
       "    </tr>\n",
       "    <tr>\n",
       "      <th>1</th>\n",
       "      <td>1243.0</td>\n",
       "      <td>1966.0</td>\n",
       "      <td>1547.0</td>\n",
       "      <td>949.0</td>\n",
       "      <td>155.029280</td>\n",
       "      <td>604.437888</td>\n",
       "      <td>698</td>\n",
       "      <td>William Reynolds</td>\n",
       "      <td>Waters LLC</td>\n",
       "      <td>False</td>\n",
       "    </tr>\n",
       "    <tr>\n",
       "      <th>2</th>\n",
       "      <td>1140.0</td>\n",
       "      <td>0.0</td>\n",
       "      <td>1909.0</td>\n",
       "      <td>937.0</td>\n",
       "      <td>1472.249997</td>\n",
       "      <td>954.945309</td>\n",
       "      <td>1626</td>\n",
       "      <td>Beverly Kling</td>\n",
       "      <td>Aufderhar and Sons</td>\n",
       "      <td>False</td>\n",
       "    </tr>\n",
       "    <tr>\n",
       "      <th>3</th>\n",
       "      <td>1417.0</td>\n",
       "      <td>1990.0</td>\n",
       "      <td>1252.0</td>\n",
       "      <td>406.0</td>\n",
       "      <td>0.000000</td>\n",
       "      <td>344.048663</td>\n",
       "      <td>1151</td>\n",
       "      <td>Isom Stiedemann</td>\n",
       "      <td>Morissette Group</td>\n",
       "      <td>False</td>\n",
       "    </tr>\n",
       "    <tr>\n",
       "      <th>4</th>\n",
       "      <td>853.0</td>\n",
       "      <td>1075.0</td>\n",
       "      <td>1814.0</td>\n",
       "      <td>229.0</td>\n",
       "      <td>65.752680</td>\n",
       "      <td>818.549936</td>\n",
       "      <td>1084</td>\n",
       "      <td>Casper McLaughlin</td>\n",
       "      <td>Windler and Langosh Group</td>\n",
       "      <td>False</td>\n",
       "    </tr>\n",
       "  </tbody>\n",
       "</table>\n",
       "</div>"
      ],
      "text/plain": [
       "   order_id  make_id  time_id  this_id     my_float    not_null  not_null_int  \\\n",
       "0     363.0    624.0   1232.0    989.0    71.440975  296.874883           661   \n",
       "1    1243.0   1966.0   1547.0    949.0   155.029280  604.437888           698   \n",
       "2    1140.0      0.0   1909.0    937.0  1472.249997  954.945309          1626   \n",
       "3    1417.0   1990.0   1252.0    406.0     0.000000  344.048663          1151   \n",
       "4     853.0   1075.0   1814.0    229.0    65.752680  818.549936          1084   \n",
       "\n",
       "        not_null_str                   customer   paid  \n",
       "0        Harley Wolf   Botsford and Terry Group      0  \n",
       "1   William Reynolds                 Waters LLC  False  \n",
       "2      Beverly Kling         Aufderhar and Sons  False  \n",
       "3    Isom Stiedemann           Morissette Group  False  \n",
       "4  Casper McLaughlin  Windler and Langosh Group  False  "
      ]
     },
     "execution_count": 10,
     "metadata": {},
     "output_type": "execute_result"
    }
   ],
   "source": [
    "# Заполнение всех пропущенных значений нулями\n",
    "# В данном случае это некорректно, так как нулями заполняются в том числе категориальные колонки\n",
    "data_new_3 = data.fillna(0)\n",
    "data_new_3.head()"
   ]
  },
  {
   "cell_type": "code",
   "execution_count": 11,
   "id": "little-raise",
   "metadata": {},
   "outputs": [
    {
     "name": "stdout",
     "output_type": "stream",
     "text": [
      "Колонка order_id. Тип данных float64. Количество пустых значений 6332, 7.02%.\n",
      "Колонка make_id. Тип данных float64. Количество пустых значений 16949, 18.79%.\n",
      "Колонка time_id. Тип данных float64. Количество пустых значений 1794, 1.99%.\n",
      "Колонка this_id. Тип данных float64. Количество пустых значений 9021, 10.0%.\n",
      "Колонка my_float. Тип данных float64. Количество пустых значений 19887, 22.04%.\n"
     ]
    }
   ],
   "source": [
    "# Выберем числовые колонки с пропущенными значениями\n",
    "# Цикл по колонкам датасета\n",
    "num_cols = []\n",
    "for col in data.columns:\n",
    "    # Количество пустых значений \n",
    "    temp_null_count = data[data[col].isnull()].shape[0]\n",
    "    dt = str(data[col].dtype)\n",
    "    if temp_null_count>0 and (dt=='float64' or dt=='int64'):\n",
    "        num_cols.append(col)\n",
    "        temp_perc = round((temp_null_count / total_count) * 100.0, 2)\n",
    "        print('Колонка {}. Тип данных {}. Количество пустых значений {}, {}%.'.format(col, dt, temp_null_count, temp_perc))"
   ]
  },
  {
   "cell_type": "code",
   "execution_count": 12,
   "id": "classical-turkey",
   "metadata": {},
   "outputs": [
    {
     "data": {
      "text/html": [
       "<div>\n",
       "<style scoped>\n",
       "    .dataframe tbody tr th:only-of-type {\n",
       "        vertical-align: middle;\n",
       "    }\n",
       "\n",
       "    .dataframe tbody tr th {\n",
       "        vertical-align: top;\n",
       "    }\n",
       "\n",
       "    .dataframe thead th {\n",
       "        text-align: right;\n",
       "    }\n",
       "</style>\n",
       "<table border=\"1\" class=\"dataframe\">\n",
       "  <thead>\n",
       "    <tr style=\"text-align: right;\">\n",
       "      <th></th>\n",
       "      <th>order_id</th>\n",
       "      <th>make_id</th>\n",
       "      <th>time_id</th>\n",
       "      <th>this_id</th>\n",
       "      <th>my_float</th>\n",
       "    </tr>\n",
       "  </thead>\n",
       "  <tbody>\n",
       "    <tr>\n",
       "      <th>0</th>\n",
       "      <td>363.0</td>\n",
       "      <td>624.0</td>\n",
       "      <td>1232.0</td>\n",
       "      <td>989.0</td>\n",
       "      <td>71.440975</td>\n",
       "    </tr>\n",
       "    <tr>\n",
       "      <th>1</th>\n",
       "      <td>1243.0</td>\n",
       "      <td>1966.0</td>\n",
       "      <td>1547.0</td>\n",
       "      <td>949.0</td>\n",
       "      <td>155.029280</td>\n",
       "    </tr>\n",
       "    <tr>\n",
       "      <th>2</th>\n",
       "      <td>1140.0</td>\n",
       "      <td>NaN</td>\n",
       "      <td>1909.0</td>\n",
       "      <td>937.0</td>\n",
       "      <td>1472.249997</td>\n",
       "    </tr>\n",
       "    <tr>\n",
       "      <th>3</th>\n",
       "      <td>1417.0</td>\n",
       "      <td>1990.0</td>\n",
       "      <td>1252.0</td>\n",
       "      <td>406.0</td>\n",
       "      <td>NaN</td>\n",
       "    </tr>\n",
       "    <tr>\n",
       "      <th>4</th>\n",
       "      <td>853.0</td>\n",
       "      <td>1075.0</td>\n",
       "      <td>1814.0</td>\n",
       "      <td>229.0</td>\n",
       "      <td>65.752680</td>\n",
       "    </tr>\n",
       "    <tr>\n",
       "      <th>...</th>\n",
       "      <td>...</td>\n",
       "      <td>...</td>\n",
       "      <td>...</td>\n",
       "      <td>...</td>\n",
       "      <td>...</td>\n",
       "    </tr>\n",
       "    <tr>\n",
       "      <th>90216</th>\n",
       "      <td>935.0</td>\n",
       "      <td>306.0</td>\n",
       "      <td>1688.0</td>\n",
       "      <td>857.0</td>\n",
       "      <td>1051.032272</td>\n",
       "    </tr>\n",
       "    <tr>\n",
       "      <th>90217</th>\n",
       "      <td>1750.0</td>\n",
       "      <td>1911.0</td>\n",
       "      <td>1362.0</td>\n",
       "      <td>1964.0</td>\n",
       "      <td>446.578785</td>\n",
       "    </tr>\n",
       "    <tr>\n",
       "      <th>90218</th>\n",
       "      <td>836.0</td>\n",
       "      <td>1131.0</td>\n",
       "      <td>254.0</td>\n",
       "      <td>1674.0</td>\n",
       "      <td>277.896260</td>\n",
       "    </tr>\n",
       "    <tr>\n",
       "      <th>90219</th>\n",
       "      <td>1481.0</td>\n",
       "      <td>1004.0</td>\n",
       "      <td>199.0</td>\n",
       "      <td>1536.0</td>\n",
       "      <td>15.347896</td>\n",
       "    </tr>\n",
       "    <tr>\n",
       "      <th>90220</th>\n",
       "      <td>912.0</td>\n",
       "      <td>1296.0</td>\n",
       "      <td>984.0</td>\n",
       "      <td>191.0</td>\n",
       "      <td>816.205300</td>\n",
       "    </tr>\n",
       "  </tbody>\n",
       "</table>\n",
       "<p>90221 rows × 5 columns</p>\n",
       "</div>"
      ],
      "text/plain": [
       "       order_id  make_id  time_id  this_id     my_float\n",
       "0         363.0    624.0   1232.0    989.0    71.440975\n",
       "1        1243.0   1966.0   1547.0    949.0   155.029280\n",
       "2        1140.0      NaN   1909.0    937.0  1472.249997\n",
       "3        1417.0   1990.0   1252.0    406.0          NaN\n",
       "4         853.0   1075.0   1814.0    229.0    65.752680\n",
       "...         ...      ...      ...      ...          ...\n",
       "90216     935.0    306.0   1688.0    857.0  1051.032272\n",
       "90217    1750.0   1911.0   1362.0   1964.0   446.578785\n",
       "90218     836.0   1131.0    254.0   1674.0   277.896260\n",
       "90219    1481.0   1004.0    199.0   1536.0    15.347896\n",
       "90220     912.0   1296.0    984.0    191.0   816.205300\n",
       "\n",
       "[90221 rows x 5 columns]"
      ]
     },
     "execution_count": 12,
     "metadata": {},
     "output_type": "execute_result"
    }
   ],
   "source": [
    "# Фильтр по колонкам с пропущенными значениями\n",
    "data_num = data[num_cols]\n",
    "data_num"
   ]
  },
  {
   "cell_type": "code",
   "execution_count": 13,
   "id": "median-gnome",
   "metadata": {},
   "outputs": [
    {
     "data": {
      "image/png": "[encoded data removed]",
      "text/plain": [
       "<Figure size 432x288 with 1 Axes>"
      ]
     },
     "metadata": {},
     "output_type": "display_data"
    },
    {
     "data": {
      "image/png": "[encoded data removed]",
      "text/plain": [
       "<Figure size 432x288 with 1 Axes>"
      ]
     },
     "metadata": {},
     "output_type": "display_data"
    },
    {
     "data": {
      "image/png": "[encoded data removed]",
      "text/plain": [
       "<Figure size 432x288 with 1 Axes>"
      ]
     },
     "metadata": {},
     "output_type": "display_data"
    },
    {
     "data": {
      "image/png": "[encoded data removed]",
      "text/plain": [
       "<Figure size 432x288 with 1 Axes>"
      ]
     },
     "metadata": {},
     "output_type": "display_data"
    },
    {
     "data": {
      "image/png": "[encoded data removed]",
      "text/plain": [
       "<Figure size 432x288 with 1 Axes>"
      ]
     },
     "metadata": {},
     "output_type": "display_data"
    }
   ],
   "source": [
    "# Гистограмма по признакам\n",
    "for col in data_num:\n",
    "    plt.hist(data[col], 50)\n",
    "    plt.xlabel(col)\n",
    "    plt.show()"
   ]
  },
  {
   "cell_type": "markdown",
   "id": "original-terror",
   "metadata": {},
   "source": [
    "## Импутация данных"
   ]
  },
  {
   "cell_type": "code",
   "execution_count": 14,
   "id": "electoral-fruit",
   "metadata": {},
   "outputs": [
    {
     "data": {
      "text/html": [
       "<div>\n",
       "<style scoped>\n",
       "    .dataframe tbody tr th:only-of-type {\n",
       "        vertical-align: middle;\n",
       "    }\n",
       "\n",
       "    .dataframe tbody tr th {\n",
       "        vertical-align: top;\n",
       "    }\n",
       "\n",
       "    .dataframe thead th {\n",
       "        text-align: right;\n",
       "    }\n",
       "</style>\n",
       "<table border=\"1\" class=\"dataframe\">\n",
       "  <thead>\n",
       "    <tr style=\"text-align: right;\">\n",
       "      <th></th>\n",
       "      <th>order_id</th>\n",
       "    </tr>\n",
       "  </thead>\n",
       "  <tbody>\n",
       "    <tr>\n",
       "      <th>0</th>\n",
       "      <td>363.0</td>\n",
       "    </tr>\n",
       "    <tr>\n",
       "      <th>1</th>\n",
       "      <td>1243.0</td>\n",
       "    </tr>\n",
       "    <tr>\n",
       "      <th>2</th>\n",
       "      <td>1140.0</td>\n",
       "    </tr>\n",
       "    <tr>\n",
       "      <th>3</th>\n",
       "      <td>1417.0</td>\n",
       "    </tr>\n",
       "    <tr>\n",
       "      <th>4</th>\n",
       "      <td>853.0</td>\n",
       "    </tr>\n",
       "  </tbody>\n",
       "</table>\n",
       "</div>"
      ],
      "text/plain": [
       "   order_id\n",
       "0     363.0\n",
       "1    1243.0\n",
       "2    1140.0\n",
       "3    1417.0\n",
       "4     853.0"
      ]
     },
     "execution_count": 14,
     "metadata": {},
     "output_type": "execute_result"
    }
   ],
   "source": [
    "data_num_Order_id = data_num[['order_id']]\n",
    "data_num_Order_id.head()"
   ]
  },
  {
   "cell_type": "code",
   "execution_count": 15,
   "id": "wireless-capacity",
   "metadata": {},
   "outputs": [],
   "source": [
    "from sklearn.impute import SimpleImputer\n",
    "from sklearn.impute import MissingIndicator"
   ]
  },
  {
   "cell_type": "code",
   "execution_count": 16,
   "id": "detailed-problem",
   "metadata": {},
   "outputs": [
    {
     "data": {
      "text/plain": [
       "array([[False],\n",
       "       [False],\n",
       "       [False],\n",
       "       ...,\n",
       "       [False],\n",
       "       [False],\n",
       "       [False]])"
      ]
     },
     "execution_count": 16,
     "metadata": {},
     "output_type": "execute_result"
    }
   ],
   "source": [
    "# Фильтр для проверки заполнения пустых значений\n",
    "indicator = MissingIndicator()\n",
    "mask_missing_values_only = indicator.fit_transform(data_num_Order_id)\n",
    "mask_missing_values_only"
   ]
  },
  {
   "cell_type": "code",
   "execution_count": 17,
   "id": "wooden-converter",
   "metadata": {},
   "outputs": [],
   "source": [
    "strategies=['mean', 'median', 'most_frequent']"
   ]
  },
  {
   "cell_type": "code",
   "execution_count": 18,
   "id": "stylish-bulgaria",
   "metadata": {},
   "outputs": [],
   "source": [
    "def test_num_impute(strategy_param):\n",
    "    imp_num = SimpleImputer(strategy=strategy_param)\n",
    "    data_num_imp = imp_num.fit_transform(data_num_Order_id)\n",
    "    return data_num_imp[mask_missing_values_only]"
   ]
  },
  {
   "cell_type": "code",
   "execution_count": 19,
   "id": "missing-shade",
   "metadata": {},
   "outputs": [
    {
     "data": {
      "text/plain": [
       "('mean',\n",
       " array([999.47238613, 999.47238613, 999.47238613, ..., 999.47238613,\n",
       "        999.47238613, 999.47238613]))"
      ]
     },
     "execution_count": 19,
     "metadata": {},
     "output_type": "execute_result"
    }
   ],
   "source": [
    "strategies[0], test_num_impute(strategies[0])"
   ]
  },
  {
   "cell_type": "code",
   "execution_count": 20,
   "id": "thousand-canyon",
   "metadata": {},
   "outputs": [
    {
     "data": {
      "text/plain": [
       "('median', array([1001., 1001., 1001., ..., 1001., 1001., 1001.]))"
      ]
     },
     "execution_count": 20,
     "metadata": {},
     "output_type": "execute_result"
    }
   ],
   "source": [
    "strategies[1], test_num_impute(strategies[1])"
   ]
  },
  {
   "cell_type": "code",
   "execution_count": 21,
   "id": "funded-howard",
   "metadata": {},
   "outputs": [
    {
     "data": {
      "text/plain": [
       "('most_frequent', array([1323., 1323., 1323., ..., 1323., 1323., 1323.]))"
      ]
     },
     "execution_count": 21,
     "metadata": {},
     "output_type": "execute_result"
    }
   ],
   "source": [
    "strategies[2], test_num_impute(strategies[2])"
   ]
  },
  {
   "cell_type": "code",
   "execution_count": 22,
   "id": "improving-advertiser",
   "metadata": {},
   "outputs": [],
   "source": [
    "# Более сложная функция, которая позволяет задавать колонку и вид импьютации\n",
    "def test_num_impute_col(dataset, column, strategy_param):\n",
    "    temp_data = dataset[[column]]\n",
    "    \n",
    "    indicator = MissingIndicator()\n",
    "    mask_missing_values_only = indicator.fit_transform(temp_data)\n",
    "    \n",
    "    imp_num = SimpleImputer(strategy=strategy_param)\n",
    "    data_num_imp = imp_num.fit_transform(temp_data)\n",
    "    \n",
    "    filled_data = data_num_imp[mask_missing_values_only]\n",
    "    \n",
    "    return column, strategy_param, filled_data.size, filled_data[0], filled_data[filled_data.size-1]"
   ]
  },
  {
   "cell_type": "code",
   "execution_count": 23,
   "id": "aquatic-search",
   "metadata": {},
   "outputs": [
    {
     "data": {
      "text/html": [
       "<div>\n",
       "<style scoped>\n",
       "    .dataframe tbody tr th:only-of-type {\n",
       "        vertical-align: middle;\n",
       "    }\n",
       "\n",
       "    .dataframe tbody tr th {\n",
       "        vertical-align: top;\n",
       "    }\n",
       "\n",
       "    .dataframe thead th {\n",
       "        text-align: right;\n",
       "    }\n",
       "</style>\n",
       "<table border=\"1\" class=\"dataframe\">\n",
       "  <thead>\n",
       "    <tr style=\"text-align: right;\">\n",
       "      <th></th>\n",
       "      <th>time_id</th>\n",
       "    </tr>\n",
       "  </thead>\n",
       "  <tbody>\n",
       "    <tr>\n",
       "      <th>count</th>\n",
       "      <td>88427.000000</td>\n",
       "    </tr>\n",
       "    <tr>\n",
       "      <th>mean</th>\n",
       "      <td>998.874869</td>\n",
       "    </tr>\n",
       "    <tr>\n",
       "      <th>std</th>\n",
       "      <td>576.761015</td>\n",
       "    </tr>\n",
       "    <tr>\n",
       "      <th>min</th>\n",
       "      <td>0.000000</td>\n",
       "    </tr>\n",
       "    <tr>\n",
       "      <th>25%</th>\n",
       "      <td>502.000000</td>\n",
       "    </tr>\n",
       "    <tr>\n",
       "      <th>50%</th>\n",
       "      <td>998.000000</td>\n",
       "    </tr>\n",
       "    <tr>\n",
       "      <th>75%</th>\n",
       "      <td>1498.000000</td>\n",
       "    </tr>\n",
       "    <tr>\n",
       "      <th>max</th>\n",
       "      <td>1999.000000</td>\n",
       "    </tr>\n",
       "  </tbody>\n",
       "</table>\n",
       "</div>"
      ],
      "text/plain": [
       "            time_id\n",
       "count  88427.000000\n",
       "mean     998.874869\n",
       "std      576.761015\n",
       "min        0.000000\n",
       "25%      502.000000\n",
       "50%      998.000000\n",
       "75%     1498.000000\n",
       "max     1999.000000"
      ]
     },
     "execution_count": 23,
     "metadata": {},
     "output_type": "execute_result"
    }
   ],
   "source": [
    "data[['time_id']].describe()"
   ]
  },
  {
   "cell_type": "code",
   "execution_count": 24,
   "id": "original-shadow",
   "metadata": {},
   "outputs": [
    {
     "data": {
      "text/plain": [
       "('time_id', 'mean', 1794, 998.8748685356283, 998.8748685356283)"
      ]
     },
     "execution_count": 24,
     "metadata": {},
     "output_type": "execute_result"
    }
   ],
   "source": [
    "test_num_impute_col(data, 'time_id', strategies[0])"
   ]
  },
  {
   "cell_type": "code",
   "execution_count": 25,
   "id": "express-allergy",
   "metadata": {},
   "outputs": [
    {
     "data": {
      "text/plain": [
       "('time_id', 'median', 1794, 998.0, 998.0)"
      ]
     },
     "execution_count": 25,
     "metadata": {},
     "output_type": "execute_result"
    }
   ],
   "source": [
    "test_num_impute_col(data, 'time_id', strategies[1])"
   ]
  },
  {
   "cell_type": "code",
   "execution_count": 26,
   "id": "smooth-taxation",
   "metadata": {},
   "outputs": [
    {
     "data": {
      "text/plain": [
       "('time_id', 'most_frequent', 1794, 123.0, 123.0)"
      ]
     },
     "execution_count": 26,
     "metadata": {},
     "output_type": "execute_result"
    }
   ],
   "source": [
    "test_num_impute_col(data, 'time_id', strategies[2])"
   ]
  },
  {
   "cell_type": "markdown",
   "id": "intellectual-little",
   "metadata": {},
   "source": [
    "## Обработка пропусков в категориальных данных"
   ]
  },
  {
   "cell_type": "code",
   "execution_count": 27,
   "id": "excessive-summer",
   "metadata": {},
   "outputs": [
    {
     "name": "stdout",
     "output_type": "stream",
     "text": [
      "Колонка customer. Тип данных object. Количество пустых значений 2719, 3.01%.\n",
      "Колонка paid. Тип данных object. Количество пустых значений 36147, 40.06%.\n"
     ]
    }
   ],
   "source": [
    "# Выберем категориальные колонки с пропущенными значениями\n",
    "# Цикл по колонкам датасета\n",
    "cat_cols = []\n",
    "for col in data.columns:\n",
    "    # Количество пустых значений \n",
    "    temp_null_count = data[data[col].isnull()].shape[0]\n",
    "    dt = str(data[col].dtype)\n",
    "    if temp_null_count>0 and (dt=='object'):\n",
    "        cat_cols.append(col)\n",
    "        temp_perc = round((temp_null_count / total_count) * 100.0, 2)\n",
    "        print('Колонка {}. Тип данных {}. Количество пустых значений {}, {}%.'.format(col, dt, temp_null_count, temp_perc))"
   ]
  },
  {
   "cell_type": "code",
   "execution_count": 28,
   "id": "aware-lighting",
   "metadata": {},
   "outputs": [
    {
     "data": {
      "text/html": [
       "<div>\n",
       "<style scoped>\n",
       "    .dataframe tbody tr th:only-of-type {\n",
       "        vertical-align: middle;\n",
       "    }\n",
       "\n",
       "    .dataframe tbody tr th {\n",
       "        vertical-align: top;\n",
       "    }\n",
       "\n",
       "    .dataframe thead th {\n",
       "        text-align: right;\n",
       "    }\n",
       "</style>\n",
       "<table border=\"1\" class=\"dataframe\">\n",
       "  <thead>\n",
       "    <tr style=\"text-align: right;\">\n",
       "      <th></th>\n",
       "      <th>customer</th>\n",
       "    </tr>\n",
       "  </thead>\n",
       "  <tbody>\n",
       "    <tr>\n",
       "      <th>0</th>\n",
       "      <td>Botsford and Terry Group</td>\n",
       "    </tr>\n",
       "    <tr>\n",
       "      <th>1</th>\n",
       "      <td>Waters LLC</td>\n",
       "    </tr>\n",
       "    <tr>\n",
       "      <th>2</th>\n",
       "      <td>Aufderhar and Sons</td>\n",
       "    </tr>\n",
       "    <tr>\n",
       "      <th>3</th>\n",
       "      <td>Morissette Group</td>\n",
       "    </tr>\n",
       "    <tr>\n",
       "      <th>4</th>\n",
       "      <td>Windler and Langosh Group</td>\n",
       "    </tr>\n",
       "  </tbody>\n",
       "</table>\n",
       "</div>"
      ],
      "text/plain": [
       "                    customer\n",
       "0   Botsford and Terry Group\n",
       "1                 Waters LLC\n",
       "2         Aufderhar and Sons\n",
       "3           Morissette Group\n",
       "4  Windler and Langosh Group"
      ]
     },
     "execution_count": 28,
     "metadata": {},
     "output_type": "execute_result"
    }
   ],
   "source": [
    "cat_temp_data = data[['customer']]\n",
    "cat_temp_data.head()"
   ]
  },
  {
   "cell_type": "code",
   "execution_count": 29,
   "id": "apart-harrison",
   "metadata": {},
   "outputs": [
    {
     "data": {
      "text/plain": [
       "array(['Botsford and Terry Group', 'Waters LLC', 'Aufderhar and Sons',\n",
       "       ..., 'Cruickshank and Maggio and Sons', 'Schmeler and Spinka Inc',\n",
       "       'Kihn and Schulist Group'], dtype=object)"
      ]
     },
     "execution_count": 29,
     "metadata": {},
     "output_type": "execute_result"
    }
   ],
   "source": [
    "cat_temp_data['customer'].unique()"
   ]
  },
  {
   "cell_type": "code",
   "execution_count": 30,
   "id": "accepting-precipitation",
   "metadata": {},
   "outputs": [
    {
     "data": {
      "text/plain": [
       "(2719, 1)"
      ]
     },
     "execution_count": 30,
     "metadata": {},
     "output_type": "execute_result"
    }
   ],
   "source": [
    "cat_temp_data[cat_temp_data['customer'].isnull()].shape"
   ]
  },
  {
   "cell_type": "code",
   "execution_count": 31,
   "id": "thorough-ballet",
   "metadata": {},
   "outputs": [
    {
     "data": {
      "text/plain": [
       "array([['Botsford and Terry Group'],\n",
       "       ['Waters LLC'],\n",
       "       ['Aufderhar and Sons'],\n",
       "       ...,\n",
       "       ['Satterfield Inc'],\n",
       "       ['Beahan LLC'],\n",
       "       ['Kihn and Schulist Group']], dtype=object)"
      ]
     },
     "execution_count": 31,
     "metadata": {},
     "output_type": "execute_result"
    }
   ],
   "source": [
    "# Импьютация наиболее частыми значениями\n",
    "imp2 = SimpleImputer(missing_values=np.nan, strategy='most_frequent')\n",
    "data_imp2 = imp2.fit_transform(cat_temp_data)\n",
    "data_imp2"
   ]
  },
  {
   "cell_type": "code",
   "execution_count": 32,
   "id": "authentic-shelter",
   "metadata": {},
   "outputs": [
    {
     "data": {
      "text/plain": [
       "array(['Abbott Group', 'Abbott Inc', 'Abbott LLC', ...,\n",
       "       'Zulauf and Yost LLC', 'Zulauf and Zemlak Group',\n",
       "       'Zulauf and Ziemann Group'], dtype=object)"
      ]
     },
     "execution_count": 32,
     "metadata": {},
     "output_type": "execute_result"
    }
   ],
   "source": [
    "# Пустые значения отсутствуют\n",
    "np.unique(data_imp2)"
   ]
  },
  {
   "cell_type": "code",
   "execution_count": 33,
   "id": "resistant-minnesota",
   "metadata": {},
   "outputs": [
    {
     "data": {
      "text/plain": [
       "array([['Botsford and Terry Group'],\n",
       "       ['Waters LLC'],\n",
       "       ['Aufderhar and Sons'],\n",
       "       ...,\n",
       "       ['Satterfield Inc'],\n",
       "       ['NA'],\n",
       "       ['Kihn and Schulist Group']], dtype=object)"
      ]
     },
     "execution_count": 33,
     "metadata": {},
     "output_type": "execute_result"
    }
   ],
   "source": [
    "# Импьютация константой\n",
    "imp3 = SimpleImputer(missing_values=np.nan, strategy='constant', fill_value='NA')\n",
    "data_imp3 = imp3.fit_transform(cat_temp_data)\n",
    "data_imp3"
   ]
  },
  {
   "cell_type": "code",
   "execution_count": 34,
   "id": "written-maximum",
   "metadata": {},
   "outputs": [
    {
     "data": {
      "text/plain": [
       "2719"
      ]
     },
     "execution_count": 34,
     "metadata": {},
     "output_type": "execute_result"
    }
   ],
   "source": [
    "\n",
    "data_imp3[data_imp3=='NA'].size #- cat_temp_data[cat_temp_data['customer']==False].size"
   ]
  },
  {
   "cell_type": "code",
   "execution_count": 35,
   "id": "electrical-waterproof",
   "metadata": {},
   "outputs": [
    {
     "data": {
      "text/plain": [
       "array(['Abbott Group', 'Abbott Inc', 'Abbott LLC', ...,\n",
       "       'Zulauf and Yost LLC', 'Zulauf and Zemlak Group',\n",
       "       'Zulauf and Ziemann Group'], dtype=object)"
      ]
     },
     "execution_count": 35,
     "metadata": {},
     "output_type": "execute_result"
    }
   ],
   "source": [
    "np.unique(data_imp3)"
   ]
  },
  {
   "cell_type": "markdown",
   "id": "north-fluid",
   "metadata": {},
   "source": [
    "## Преобразование категориальных признаков в числовые"
   ]
  },
  {
   "cell_type": "code",
   "execution_count": 36,
   "id": "nearby-powder",
   "metadata": {},
   "outputs": [
    {
     "data": {
      "text/html": [
       "<div>\n",
       "<style scoped>\n",
       "    .dataframe tbody tr th:only-of-type {\n",
       "        vertical-align: middle;\n",
       "    }\n",
       "\n",
       "    .dataframe tbody tr th {\n",
       "        vertical-align: top;\n",
       "    }\n",
       "\n",
       "    .dataframe thead th {\n",
       "        text-align: right;\n",
       "    }\n",
       "</style>\n",
       "<table border=\"1\" class=\"dataframe\">\n",
       "  <thead>\n",
       "    <tr style=\"text-align: right;\">\n",
       "      <th></th>\n",
       "      <th>c1</th>\n",
       "    </tr>\n",
       "  </thead>\n",
       "  <tbody>\n",
       "    <tr>\n",
       "      <th>0</th>\n",
       "      <td>Botsford and Terry Group</td>\n",
       "    </tr>\n",
       "    <tr>\n",
       "      <th>1</th>\n",
       "      <td>Waters LLC</td>\n",
       "    </tr>\n",
       "    <tr>\n",
       "      <th>2</th>\n",
       "      <td>Aufderhar and Sons</td>\n",
       "    </tr>\n",
       "    <tr>\n",
       "      <th>3</th>\n",
       "      <td>Morissette Group</td>\n",
       "    </tr>\n",
       "    <tr>\n",
       "      <th>4</th>\n",
       "      <td>Windler and Langosh Group</td>\n",
       "    </tr>\n",
       "    <tr>\n",
       "      <th>...</th>\n",
       "      <td>...</td>\n",
       "    </tr>\n",
       "    <tr>\n",
       "      <th>90216</th>\n",
       "      <td>Schmeler and Spinka Inc</td>\n",
       "    </tr>\n",
       "    <tr>\n",
       "      <th>90217</th>\n",
       "      <td>Gutmann Inc</td>\n",
       "    </tr>\n",
       "    <tr>\n",
       "      <th>90218</th>\n",
       "      <td>Satterfield Inc</td>\n",
       "    </tr>\n",
       "    <tr>\n",
       "      <th>90219</th>\n",
       "      <td>Beahan LLC</td>\n",
       "    </tr>\n",
       "    <tr>\n",
       "      <th>90220</th>\n",
       "      <td>Kihn and Schulist Group</td>\n",
       "    </tr>\n",
       "  </tbody>\n",
       "</table>\n",
       "<p>90221 rows × 1 columns</p>\n",
       "</div>"
      ],
      "text/plain": [
       "                              c1\n",
       "0       Botsford and Terry Group\n",
       "1                     Waters LLC\n",
       "2             Aufderhar and Sons\n",
       "3               Morissette Group\n",
       "4      Windler and Langosh Group\n",
       "...                          ...\n",
       "90216    Schmeler and Spinka Inc\n",
       "90217                Gutmann Inc\n",
       "90218            Satterfield Inc\n",
       "90219                 Beahan LLC\n",
       "90220    Kihn and Schulist Group\n",
       "\n",
       "[90221 rows x 1 columns]"
      ]
     },
     "execution_count": 36,
     "metadata": {},
     "output_type": "execute_result"
    }
   ],
   "source": [
    "cat_enc = pd.DataFrame({'c1':data_imp2.T[0]})\n",
    "cat_enc"
   ]
  },
  {
   "cell_type": "markdown",
   "id": "considered-blend",
   "metadata": {},
   "source": [
    "# "
   ]
  },
  {
   "cell_type": "markdown",
   "id": "after-friend",
   "metadata": {},
   "source": [
    "## Кодирование категорий целочисленными значениями - label encoding"
   ]
  },
  {
   "cell_type": "code",
   "execution_count": 37,
   "id": "distinguished-copper",
   "metadata": {},
   "outputs": [],
   "source": [
    "from sklearn.preprocessing import LabelEncoder, OneHotEncoder"
   ]
  },
  {
   "cell_type": "code",
   "execution_count": 38,
   "id": "entire-redhead",
   "metadata": {},
   "outputs": [],
   "source": [
    "le = LabelEncoder()\n",
    "cat_enc_le = le.fit_transform(cat_enc['c1'])"
   ]
  },
  {
   "cell_type": "code",
   "execution_count": 39,
   "id": "introductory-rebound",
   "metadata": {},
   "outputs": [
    {
     "data": {
      "text/plain": [
       "array(['Botsford and Terry Group', 'Waters LLC', 'Aufderhar and Sons',\n",
       "       ..., 'Cruickshank and Maggio and Sons', 'Schmeler and Spinka Inc',\n",
       "       'Kihn and Schulist Group'], dtype=object)"
      ]
     },
     "execution_count": 39,
     "metadata": {},
     "output_type": "execute_result"
    }
   ],
   "source": [
    "cat_enc['c1'].unique()"
   ]
  },
  {
   "cell_type": "code",
   "execution_count": 40,
   "id": "fifteen-survival",
   "metadata": {},
   "outputs": [
    {
     "data": {
      "text/plain": [
       "array([    0,     1,     2, ..., 44978, 44979, 44980])"
      ]
     },
     "execution_count": 40,
     "metadata": {},
     "output_type": "execute_result"
    }
   ],
   "source": [
    "np.unique(cat_enc_le)"
   ]
  },
  {
   "cell_type": "code",
   "execution_count": 41,
   "id": "checked-decrease",
   "metadata": {},
   "outputs": [
    {
     "data": {
      "text/plain": [
       "array(['Abbott Group', 'Abbott Inc', 'Abbott LLC',\n",
       "       'Abbott and Abbott Group'], dtype=object)"
      ]
     },
     "execution_count": 41,
     "metadata": {},
     "output_type": "execute_result"
    }
   ],
   "source": [
    "le.inverse_transform([0, 1, 2, 3])"
   ]
  },
  {
   "cell_type": "markdown",
   "id": "adjacent-carry",
   "metadata": {},
   "source": [
    "## Кодирование категорий наборами бинарных значений -"
   ]
  },
  {
   "cell_type": "code",
   "execution_count": 42,
   "id": "exotic-middle",
   "metadata": {},
   "outputs": [],
   "source": [
    "ohe = OneHotEncoder()\n",
    "cat_enc_ohe = ohe.fit_transform(cat_enc[['c1']])"
   ]
  },
  {
   "cell_type": "code",
   "execution_count": 43,
   "id": "contrary-latino",
   "metadata": {},
   "outputs": [
    {
     "data": {
      "text/plain": [
       "(90221, 1)"
      ]
     },
     "execution_count": 43,
     "metadata": {},
     "output_type": "execute_result"
    }
   ],
   "source": [
    "cat_enc.shape"
   ]
  },
  {
   "cell_type": "code",
   "execution_count": 44,
   "id": "fiscal-raising",
   "metadata": {},
   "outputs": [
    {
     "data": {
      "text/plain": [
       "(90221, 44981)"
      ]
     },
     "execution_count": 44,
     "metadata": {},
     "output_type": "execute_result"
    }
   ],
   "source": [
    "cat_enc_ohe.shape"
   ]
  },
  {
   "cell_type": "code",
   "execution_count": 45,
   "id": "swiss-prior",
   "metadata": {},
   "outputs": [
    {
     "data": {
      "text/plain": [
       "<90221x44981 sparse matrix of type '<class 'numpy.float64'>'\n",
       "\twith 90221 stored elements in Compressed Sparse Row format>"
      ]
     },
     "execution_count": 45,
     "metadata": {},
     "output_type": "execute_result"
    }
   ],
   "source": [
    "cat_enc_ohe"
   ]
  },
  {
   "cell_type": "code",
   "execution_count": 46,
   "id": "acquired-palestinian",
   "metadata": {},
   "outputs": [],
   "source": [
    "#cat_enc_ohe.todense()[0:10]"
   ]
  },
  {
   "cell_type": "code",
   "execution_count": 47,
   "id": "thermal-airfare",
   "metadata": {},
   "outputs": [
    {
     "data": {
      "text/html": [
       "<div>\n",
       "<style scoped>\n",
       "    .dataframe tbody tr th:only-of-type {\n",
       "        vertical-align: middle;\n",
       "    }\n",
       "\n",
       "    .dataframe tbody tr th {\n",
       "        vertical-align: top;\n",
       "    }\n",
       "\n",
       "    .dataframe thead th {\n",
       "        text-align: right;\n",
       "    }\n",
       "</style>\n",
       "<table border=\"1\" class=\"dataframe\">\n",
       "  <thead>\n",
       "    <tr style=\"text-align: right;\">\n",
       "      <th></th>\n",
       "      <th>c1</th>\n",
       "    </tr>\n",
       "  </thead>\n",
       "  <tbody>\n",
       "    <tr>\n",
       "      <th>0</th>\n",
       "      <td>Botsford and Terry Group</td>\n",
       "    </tr>\n",
       "    <tr>\n",
       "      <th>1</th>\n",
       "      <td>Waters LLC</td>\n",
       "    </tr>\n",
       "    <tr>\n",
       "      <th>2</th>\n",
       "      <td>Aufderhar and Sons</td>\n",
       "    </tr>\n",
       "    <tr>\n",
       "      <th>3</th>\n",
       "      <td>Morissette Group</td>\n",
       "    </tr>\n",
       "    <tr>\n",
       "      <th>4</th>\n",
       "      <td>Windler and Langosh Group</td>\n",
       "    </tr>\n",
       "    <tr>\n",
       "      <th>5</th>\n",
       "      <td>Pouros LLC</td>\n",
       "    </tr>\n",
       "    <tr>\n",
       "      <th>6</th>\n",
       "      <td>Armstrong and Leuschke and Sons</td>\n",
       "    </tr>\n",
       "    <tr>\n",
       "      <th>7</th>\n",
       "      <td>Kuhlman and Schultz LLC</td>\n",
       "    </tr>\n",
       "    <tr>\n",
       "      <th>8</th>\n",
       "      <td>Bruen and Sons</td>\n",
       "    </tr>\n",
       "    <tr>\n",
       "      <th>9</th>\n",
       "      <td>Johnston and Bechtelar Inc</td>\n",
       "    </tr>\n",
       "  </tbody>\n",
       "</table>\n",
       "</div>"
      ],
      "text/plain": [
       "                                c1\n",
       "0         Botsford and Terry Group\n",
       "1                       Waters LLC\n",
       "2               Aufderhar and Sons\n",
       "3                 Morissette Group\n",
       "4        Windler and Langosh Group\n",
       "5                       Pouros LLC\n",
       "6  Armstrong and Leuschke and Sons\n",
       "7          Kuhlman and Schultz LLC\n",
       "8                   Bruen and Sons\n",
       "9       Johnston and Bechtelar Inc"
      ]
     },
     "execution_count": 47,
     "metadata": {},
     "output_type": "execute_result"
    }
   ],
   "source": [
    "cat_enc.head(10)"
   ]
  },
  {
   "cell_type": "markdown",
   "id": "gothic-breakdown",
   "metadata": {},
   "source": [
    "## Pandas get_dummies - быстрый вариант one-hot кодирования"
   ]
  },
  {
   "cell_type": "code",
   "execution_count": 48,
   "id": "owned-personal",
   "metadata": {},
   "outputs": [],
   "source": [
    "#pd.get_dummies(cat_enc).head()"
   ]
  },
  {
   "cell_type": "code",
   "execution_count": 49,
   "id": "excess-ordinary",
   "metadata": {},
   "outputs": [],
   "source": [
    "#pd.get_dummies(cat_temp_data, dummy_na=True).head()"
   ]
  },
  {
   "cell_type": "markdown",
   "id": "fatty-colors",
   "metadata": {},
   "source": [
    "# Масштабирование данных"
   ]
  },
  {
   "cell_type": "code",
   "execution_count": 50,
   "id": "confident-romance",
   "metadata": {},
   "outputs": [],
   "source": [
    "from sklearn.preprocessing import MinMaxScaler, StandardScaler, Normalizer"
   ]
  },
  {
   "cell_type": "markdown",
   "id": "continued-sheep",
   "metadata": {},
   "source": [
    "## MinMax"
   ]
  },
  {
   "cell_type": "code",
   "execution_count": 51,
   "id": "synthetic-sustainability",
   "metadata": {},
   "outputs": [],
   "source": [
    "sc1 = MinMaxScaler()\n",
    "sc1_data = sc1.fit_transform(data[['my_float']])"
   ]
  },
  {
   "cell_type": "code",
   "execution_count": 52,
   "id": "adverse-glass",
   "metadata": {},
   "outputs": [
    {
     "data": {
      "image/png": "[encoded data removed]",
      "text/plain": [
       "<Figure size 432x288 with 1 Axes>"
      ]
     },
     "metadata": {},
     "output_type": "display_data"
    }
   ],
   "source": [
    "plt.hist(data['my_float'], 50)\n",
    "plt.show()"
   ]
  },
  {
   "cell_type": "code",
   "execution_count": 53,
   "id": "defensive-syndrome",
   "metadata": {},
   "outputs": [
    {
     "data": {
      "image/png": "[encoded data removed]",
      "text/plain": [
       "<Figure size 432x288 with 1 Axes>"
      ]
     },
     "metadata": {},
     "output_type": "display_data"
    }
   ],
   "source": [
    "plt.hist(sc1_data, 50)\n",
    "plt.show()"
   ]
  },
  {
   "cell_type": "markdown",
   "id": "professional-legend",
   "metadata": {},
   "source": [
    "## Масштабирование данных на основе Z-оценки - StandardScaler"
   ]
  },
  {
   "cell_type": "code",
   "execution_count": 54,
   "id": "blocked-montreal",
   "metadata": {},
   "outputs": [],
   "source": [
    "sc2 = StandardScaler()\n",
    "sc2_data = sc2.fit_transform(data[['my_float']])"
   ]
  },
  {
   "cell_type": "code",
   "execution_count": 55,
   "id": "opposite-blackjack",
   "metadata": {},
   "outputs": [
    {
     "data": {
      "image/png": "[encoded data removed]",
      "text/plain": [
       "<Figure size 432x288 with 1 Axes>"
      ]
     },
     "metadata": {},
     "output_type": "display_data"
    }
   ],
   "source": [
    "plt.hist(sc2_data, 50)\n",
    "plt.show()"
   ]
  },
  {
   "cell_type": "code",
   "execution_count": null,
   "id": "agreed-baking",
   "metadata": {},
   "outputs": [],
   "source": []
  }
 ],
 "metadata": {
  "kernelspec": {
   "display_name": "Python 3",
   "language": "python",
   "name": "python3"
  },
  "language_info": {
   "codemirror_mode": {
    "name": "ipython",
    "version": 3
   },
   "file_extension": ".py",
   "mimetype": "text/x-python",
   "name": "python",
   "nbconvert_exporter": "python",
   "pygments_lexer": "ipython3",
   "version": "3.9.2"
  }
 },
 "nbformat": 4,
 "nbformat_minor": 5
}
