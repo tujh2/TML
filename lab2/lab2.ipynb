{
 "cells": [
  {
   "cell_type": "markdown",
   "id": "thirty-outreach",
   "metadata": {},
   "source": [
    "# Обработка пропусков в данных, кодирование категориальных признаков, масштабирование данных."
   ]
  },
  {
   "cell_type": "code",
   "execution_count": 1,
   "id": "outdoor-fellowship",
   "metadata": {},
   "outputs": [],
   "source": [
    "import numpy as np\n",
    "import pandas as pd\n",
    "import seaborn as sns\n",
    "import matplotlib.pyplot as plt\n",
    "%matplotlib inline \n",
    "sns.set(style=\"ticks\")"
   ]
  },
  {
   "cell_type": "markdown",
   "id": "injured-yorkshire",
   "metadata": {},
   "source": [
    "Датасет был создан с помощью автогенерации."
   ]
  },
  {
   "cell_type": "code",
   "execution_count": 2,
   "id": "assured-marathon",
   "metadata": {},
   "outputs": [],
   "source": [
    "data = pd.read_csv('data/data.csv', sep=\",\")"
   ]
  },
  {
   "cell_type": "code",
   "execution_count": 3,
   "id": "cardiac-ceiling",
   "metadata": {},
   "outputs": [
    {
     "data": {
      "text/plain": [
       "(10001, 10)"
      ]
     },
     "execution_count": 3,
     "metadata": {},
     "output_type": "execute_result"
    }
   ],
   "source": [
    "data.shape"
   ]
  },
  {
   "cell_type": "code",
   "execution_count": 4,
   "id": "civil-contractor",
   "metadata": {},
   "outputs": [
    {
     "data": {
      "text/plain": [
       "order_id        float64\n",
       "make_id         float64\n",
       "time_id         float64\n",
       "this_id         float64\n",
       "my_float        float64\n",
       "not_null        float64\n",
       "not_null_int      int64\n",
       "not_null_str     object\n",
       "customer         object\n",
       "paid             object\n",
       "dtype: object"
      ]
     },
     "execution_count": 4,
     "metadata": {},
     "output_type": "execute_result"
    }
   ],
   "source": [
    "data.dtypes"
   ]
  },
  {
   "cell_type": "code",
   "execution_count": 5,
   "id": "seasonal-reach",
   "metadata": {},
   "outputs": [
    {
     "data": {
      "text/plain": [
       "order_id         720\n",
       "make_id         1916\n",
       "time_id          213\n",
       "this_id          984\n",
       "my_float        2178\n",
       "not_null           0\n",
       "not_null_int       0\n",
       "not_null_str       0\n",
       "customer         272\n",
       "paid            4050\n",
       "dtype: int64"
      ]
     },
     "execution_count": 5,
     "metadata": {},
     "output_type": "execute_result"
    }
   ],
   "source": [
    "data.isnull().sum()"
   ]
  },
  {
   "cell_type": "code",
   "execution_count": 6,
   "id": "suspected-occupation",
   "metadata": {},
   "outputs": [
    {
     "data": {
      "text/html": [
       "<div>\n",
       "<style scoped>\n",
       "    .dataframe tbody tr th:only-of-type {\n",
       "        vertical-align: middle;\n",
       "    }\n",
       "\n",
       "    .dataframe tbody tr th {\n",
       "        vertical-align: top;\n",
       "    }\n",
       "\n",
       "    .dataframe thead th {\n",
       "        text-align: right;\n",
       "    }\n",
       "</style>\n",
       "<table border=\"1\" class=\"dataframe\">\n",
       "  <thead>\n",
       "    <tr style=\"text-align: right;\">\n",
       "      <th></th>\n",
       "      <th>order_id</th>\n",
       "      <th>make_id</th>\n",
       "      <th>time_id</th>\n",
       "      <th>this_id</th>\n",
       "      <th>my_float</th>\n",
       "      <th>not_null</th>\n",
       "      <th>not_null_int</th>\n",
       "      <th>not_null_str</th>\n",
       "      <th>customer</th>\n",
       "      <th>paid</th>\n",
       "    </tr>\n",
       "  </thead>\n",
       "  <tbody>\n",
       "    <tr>\n",
       "      <th>0</th>\n",
       "      <td>1733.0</td>\n",
       "      <td>NaN</td>\n",
       "      <td>417.0</td>\n",
       "      <td>NaN</td>\n",
       "      <td>NaN</td>\n",
       "      <td>581.273750</td>\n",
       "      <td>1457</td>\n",
       "      <td>Jerald Shanahan</td>\n",
       "      <td>Reinger and Toy LLC</td>\n",
       "      <td>False</td>\n",
       "    </tr>\n",
       "    <tr>\n",
       "      <th>1</th>\n",
       "      <td>1639.0</td>\n",
       "      <td>1663.0</td>\n",
       "      <td>NaN</td>\n",
       "      <td>683.0</td>\n",
       "      <td>NaN</td>\n",
       "      <td>807.625546</td>\n",
       "      <td>1277</td>\n",
       "      <td>Lera Bruen</td>\n",
       "      <td>Gislason and Carter and Sons</td>\n",
       "      <td>NaN</td>\n",
       "    </tr>\n",
       "    <tr>\n",
       "      <th>2</th>\n",
       "      <td>1868.0</td>\n",
       "      <td>1998.0</td>\n",
       "      <td>1406.0</td>\n",
       "      <td>1710.0</td>\n",
       "      <td>1743.058166</td>\n",
       "      <td>1865.640517</td>\n",
       "      <td>1675</td>\n",
       "      <td>Melody Herzog</td>\n",
       "      <td>Strosin and Sons</td>\n",
       "      <td>False</td>\n",
       "    </tr>\n",
       "    <tr>\n",
       "      <th>3</th>\n",
       "      <td>978.0</td>\n",
       "      <td>481.0</td>\n",
       "      <td>1161.0</td>\n",
       "      <td>879.0</td>\n",
       "      <td>NaN</td>\n",
       "      <td>332.428079</td>\n",
       "      <td>681</td>\n",
       "      <td>Uriah Toy</td>\n",
       "      <td>Wunsch and Douglas LLC</td>\n",
       "      <td>True</td>\n",
       "    </tr>\n",
       "    <tr>\n",
       "      <th>4</th>\n",
       "      <td>602.0</td>\n",
       "      <td>686.0</td>\n",
       "      <td>1281.0</td>\n",
       "      <td>907.0</td>\n",
       "      <td>994.840977</td>\n",
       "      <td>780.223571</td>\n",
       "      <td>1199</td>\n",
       "      <td>Kira Kris</td>\n",
       "      <td>Dickinson LLC</td>\n",
       "      <td>False</td>\n",
       "    </tr>\n",
       "  </tbody>\n",
       "</table>\n",
       "</div>"
      ],
      "text/plain": [
       "   order_id  make_id  time_id  this_id     my_float     not_null  \\\n",
       "0    1733.0      NaN    417.0      NaN          NaN   581.273750   \n",
       "1    1639.0   1663.0      NaN    683.0          NaN   807.625546   \n",
       "2    1868.0   1998.0   1406.0   1710.0  1743.058166  1865.640517   \n",
       "3     978.0    481.0   1161.0    879.0          NaN   332.428079   \n",
       "4     602.0    686.0   1281.0    907.0   994.840977   780.223571   \n",
       "\n",
       "   not_null_int     not_null_str                      customer   paid  \n",
       "0          1457  Jerald Shanahan           Reinger and Toy LLC  False  \n",
       "1          1277       Lera Bruen  Gislason and Carter and Sons    NaN  \n",
       "2          1675    Melody Herzog              Strosin and Sons  False  \n",
       "3           681        Uriah Toy        Wunsch and Douglas LLC   True  \n",
       "4          1199        Kira Kris                 Dickinson LLC  False  "
      ]
     },
     "execution_count": 6,
     "metadata": {},
     "output_type": "execute_result"
    }
   ],
   "source": [
    "data.head()"
   ]
  },
  {
   "cell_type": "code",
   "execution_count": 7,
   "id": "copyrighted-newfoundland",
   "metadata": {},
   "outputs": [
    {
     "name": "stdout",
     "output_type": "stream",
     "text": [
      "Всего строк: 10001\n"
     ]
    }
   ],
   "source": [
    "total_count = data.shape[0]\n",
    "print('Всего строк: {}'.format(total_count))"
   ]
  },
  {
   "cell_type": "markdown",
   "id": "premium-shield",
   "metadata": {},
   "source": [
    "# Обработка пропусков в данных"
   ]
  },
  {
   "cell_type": "code",
   "execution_count": 8,
   "id": "conservative-stylus",
   "metadata": {},
   "outputs": [
    {
     "data": {
      "text/html": [
       "<div>\n",
       "<style scoped>\n",
       "    .dataframe tbody tr th:only-of-type {\n",
       "        vertical-align: middle;\n",
       "    }\n",
       "\n",
       "    .dataframe tbody tr th {\n",
       "        vertical-align: top;\n",
       "    }\n",
       "\n",
       "    .dataframe thead th {\n",
       "        text-align: right;\n",
       "    }\n",
       "</style>\n",
       "<table border=\"1\" class=\"dataframe\">\n",
       "  <thead>\n",
       "    <tr style=\"text-align: right;\">\n",
       "      <th></th>\n",
       "      <th>not_null</th>\n",
       "      <th>not_null_int</th>\n",
       "      <th>not_null_str</th>\n",
       "    </tr>\n",
       "  </thead>\n",
       "  <tbody>\n",
       "    <tr>\n",
       "      <th>0</th>\n",
       "      <td>581.273750</td>\n",
       "      <td>1457</td>\n",
       "      <td>Jerald Shanahan</td>\n",
       "    </tr>\n",
       "    <tr>\n",
       "      <th>1</th>\n",
       "      <td>807.625546</td>\n",
       "      <td>1277</td>\n",
       "      <td>Lera Bruen</td>\n",
       "    </tr>\n",
       "    <tr>\n",
       "      <th>2</th>\n",
       "      <td>1865.640517</td>\n",
       "      <td>1675</td>\n",
       "      <td>Melody Herzog</td>\n",
       "    </tr>\n",
       "    <tr>\n",
       "      <th>3</th>\n",
       "      <td>332.428079</td>\n",
       "      <td>681</td>\n",
       "      <td>Uriah Toy</td>\n",
       "    </tr>\n",
       "    <tr>\n",
       "      <th>4</th>\n",
       "      <td>780.223571</td>\n",
       "      <td>1199</td>\n",
       "      <td>Kira Kris</td>\n",
       "    </tr>\n",
       "  </tbody>\n",
       "</table>\n",
       "</div>"
      ],
      "text/plain": [
       "      not_null  not_null_int     not_null_str\n",
       "0   581.273750          1457  Jerald Shanahan\n",
       "1   807.625546          1277       Lera Bruen\n",
       "2  1865.640517          1675    Melody Herzog\n",
       "3   332.428079           681        Uriah Toy\n",
       "4   780.223571          1199        Kira Kris"
      ]
     },
     "execution_count": 8,
     "metadata": {},
     "output_type": "execute_result"
    }
   ],
   "source": [
    "# Удаление колонок, содержащих пустые значения\n",
    "data_new_1 = data.dropna(axis=1, how='any')\n",
    "(data.shape, data_new_1.shape)\n",
    "data_new_1.head()"
   ]
  },
  {
   "cell_type": "code",
   "execution_count": 9,
   "id": "industrial-efficiency",
   "metadata": {},
   "outputs": [
    {
     "data": {
      "text/html": [
       "<div>\n",
       "<style scoped>\n",
       "    .dataframe tbody tr th:only-of-type {\n",
       "        vertical-align: middle;\n",
       "    }\n",
       "\n",
       "    .dataframe tbody tr th {\n",
       "        vertical-align: top;\n",
       "    }\n",
       "\n",
       "    .dataframe thead th {\n",
       "        text-align: right;\n",
       "    }\n",
       "</style>\n",
       "<table border=\"1\" class=\"dataframe\">\n",
       "  <thead>\n",
       "    <tr style=\"text-align: right;\">\n",
       "      <th></th>\n",
       "      <th>order_id</th>\n",
       "      <th>make_id</th>\n",
       "      <th>time_id</th>\n",
       "      <th>this_id</th>\n",
       "      <th>my_float</th>\n",
       "      <th>not_null</th>\n",
       "      <th>not_null_int</th>\n",
       "      <th>not_null_str</th>\n",
       "      <th>customer</th>\n",
       "      <th>paid</th>\n",
       "    </tr>\n",
       "  </thead>\n",
       "  <tbody>\n",
       "    <tr>\n",
       "      <th>2</th>\n",
       "      <td>1868.0</td>\n",
       "      <td>1998.0</td>\n",
       "      <td>1406.0</td>\n",
       "      <td>1710.0</td>\n",
       "      <td>1743.058166</td>\n",
       "      <td>1865.640517</td>\n",
       "      <td>1675</td>\n",
       "      <td>Melody Herzog</td>\n",
       "      <td>Strosin and Sons</td>\n",
       "      <td>False</td>\n",
       "    </tr>\n",
       "    <tr>\n",
       "      <th>4</th>\n",
       "      <td>602.0</td>\n",
       "      <td>686.0</td>\n",
       "      <td>1281.0</td>\n",
       "      <td>907.0</td>\n",
       "      <td>994.840977</td>\n",
       "      <td>780.223571</td>\n",
       "      <td>1199</td>\n",
       "      <td>Kira Kris</td>\n",
       "      <td>Dickinson LLC</td>\n",
       "      <td>False</td>\n",
       "    </tr>\n",
       "    <tr>\n",
       "      <th>8</th>\n",
       "      <td>900.0</td>\n",
       "      <td>581.0</td>\n",
       "      <td>1221.0</td>\n",
       "      <td>1274.0</td>\n",
       "      <td>1610.464425</td>\n",
       "      <td>1035.599270</td>\n",
       "      <td>1028</td>\n",
       "      <td>Margie Champlin</td>\n",
       "      <td>Tromp and Wisoky Inc</td>\n",
       "      <td>False</td>\n",
       "    </tr>\n",
       "    <tr>\n",
       "      <th>10</th>\n",
       "      <td>448.0</td>\n",
       "      <td>1004.0</td>\n",
       "      <td>459.0</td>\n",
       "      <td>568.0</td>\n",
       "      <td>1038.267950</td>\n",
       "      <td>1517.854059</td>\n",
       "      <td>939</td>\n",
       "      <td>Arnaldo Schuppe</td>\n",
       "      <td>Greenholt and Rau and Sons</td>\n",
       "      <td>False</td>\n",
       "    </tr>\n",
       "    <tr>\n",
       "      <th>14</th>\n",
       "      <td>1341.0</td>\n",
       "      <td>1209.0</td>\n",
       "      <td>1094.0</td>\n",
       "      <td>1599.0</td>\n",
       "      <td>857.051858</td>\n",
       "      <td>626.583405</td>\n",
       "      <td>302</td>\n",
       "      <td>Kaycee Welch</td>\n",
       "      <td>Block and Veum Inc</td>\n",
       "      <td>False</td>\n",
       "    </tr>\n",
       "  </tbody>\n",
       "</table>\n",
       "</div>"
      ],
      "text/plain": [
       "    order_id  make_id  time_id  this_id     my_float     not_null  \\\n",
       "2     1868.0   1998.0   1406.0   1710.0  1743.058166  1865.640517   \n",
       "4      602.0    686.0   1281.0    907.0   994.840977   780.223571   \n",
       "8      900.0    581.0   1221.0   1274.0  1610.464425  1035.599270   \n",
       "10     448.0   1004.0    459.0    568.0  1038.267950  1517.854059   \n",
       "14    1341.0   1209.0   1094.0   1599.0   857.051858   626.583405   \n",
       "\n",
       "    not_null_int     not_null_str                    customer   paid  \n",
       "2           1675    Melody Herzog            Strosin and Sons  False  \n",
       "4           1199        Kira Kris               Dickinson LLC  False  \n",
       "8           1028  Margie Champlin        Tromp and Wisoky Inc  False  \n",
       "10           939  Arnaldo Schuppe  Greenholt and Rau and Sons  False  \n",
       "14           302     Kaycee Welch          Block and Veum Inc  False  "
      ]
     },
     "execution_count": 9,
     "metadata": {},
     "output_type": "execute_result"
    }
   ],
   "source": [
    "# Удаление строк, содержащих пустые значения\n",
    "data_new_2 = data.dropna(axis=0, how='any')\n",
    "(data.shape, data_new_2.shape)\n",
    "data_new_2.head()"
   ]
  },
  {
   "cell_type": "code",
   "execution_count": 10,
   "id": "innocent-disability",
   "metadata": {},
   "outputs": [
    {
     "data": {
      "text/html": [
       "<div>\n",
       "<style scoped>\n",
       "    .dataframe tbody tr th:only-of-type {\n",
       "        vertical-align: middle;\n",
       "    }\n",
       "\n",
       "    .dataframe tbody tr th {\n",
       "        vertical-align: top;\n",
       "    }\n",
       "\n",
       "    .dataframe thead th {\n",
       "        text-align: right;\n",
       "    }\n",
       "</style>\n",
       "<table border=\"1\" class=\"dataframe\">\n",
       "  <thead>\n",
       "    <tr style=\"text-align: right;\">\n",
       "      <th></th>\n",
       "      <th>order_id</th>\n",
       "      <th>make_id</th>\n",
       "      <th>time_id</th>\n",
       "      <th>this_id</th>\n",
       "      <th>my_float</th>\n",
       "      <th>not_null</th>\n",
       "      <th>not_null_int</th>\n",
       "      <th>not_null_str</th>\n",
       "      <th>customer</th>\n",
       "      <th>paid</th>\n",
       "    </tr>\n",
       "  </thead>\n",
       "  <tbody>\n",
       "    <tr>\n",
       "      <th>0</th>\n",
       "      <td>1733.0</td>\n",
       "      <td>0.0</td>\n",
       "      <td>417.0</td>\n",
       "      <td>0.0</td>\n",
       "      <td>0.000000</td>\n",
       "      <td>581.273750</td>\n",
       "      <td>1457</td>\n",
       "      <td>Jerald Shanahan</td>\n",
       "      <td>Reinger and Toy LLC</td>\n",
       "      <td>False</td>\n",
       "    </tr>\n",
       "    <tr>\n",
       "      <th>1</th>\n",
       "      <td>1639.0</td>\n",
       "      <td>1663.0</td>\n",
       "      <td>0.0</td>\n",
       "      <td>683.0</td>\n",
       "      <td>0.000000</td>\n",
       "      <td>807.625546</td>\n",
       "      <td>1277</td>\n",
       "      <td>Lera Bruen</td>\n",
       "      <td>Gislason and Carter and Sons</td>\n",
       "      <td>0</td>\n",
       "    </tr>\n",
       "    <tr>\n",
       "      <th>2</th>\n",
       "      <td>1868.0</td>\n",
       "      <td>1998.0</td>\n",
       "      <td>1406.0</td>\n",
       "      <td>1710.0</td>\n",
       "      <td>1743.058166</td>\n",
       "      <td>1865.640517</td>\n",
       "      <td>1675</td>\n",
       "      <td>Melody Herzog</td>\n",
       "      <td>Strosin and Sons</td>\n",
       "      <td>False</td>\n",
       "    </tr>\n",
       "    <tr>\n",
       "      <th>3</th>\n",
       "      <td>978.0</td>\n",
       "      <td>481.0</td>\n",
       "      <td>1161.0</td>\n",
       "      <td>879.0</td>\n",
       "      <td>0.000000</td>\n",
       "      <td>332.428079</td>\n",
       "      <td>681</td>\n",
       "      <td>Uriah Toy</td>\n",
       "      <td>Wunsch and Douglas LLC</td>\n",
       "      <td>True</td>\n",
       "    </tr>\n",
       "    <tr>\n",
       "      <th>4</th>\n",
       "      <td>602.0</td>\n",
       "      <td>686.0</td>\n",
       "      <td>1281.0</td>\n",
       "      <td>907.0</td>\n",
       "      <td>994.840977</td>\n",
       "      <td>780.223571</td>\n",
       "      <td>1199</td>\n",
       "      <td>Kira Kris</td>\n",
       "      <td>Dickinson LLC</td>\n",
       "      <td>False</td>\n",
       "    </tr>\n",
       "  </tbody>\n",
       "</table>\n",
       "</div>"
      ],
      "text/plain": [
       "   order_id  make_id  time_id  this_id     my_float     not_null  \\\n",
       "0    1733.0      0.0    417.0      0.0     0.000000   581.273750   \n",
       "1    1639.0   1663.0      0.0    683.0     0.000000   807.625546   \n",
       "2    1868.0   1998.0   1406.0   1710.0  1743.058166  1865.640517   \n",
       "3     978.0    481.0   1161.0    879.0     0.000000   332.428079   \n",
       "4     602.0    686.0   1281.0    907.0   994.840977   780.223571   \n",
       "\n",
       "   not_null_int     not_null_str                      customer   paid  \n",
       "0          1457  Jerald Shanahan           Reinger and Toy LLC  False  \n",
       "1          1277       Lera Bruen  Gislason and Carter and Sons      0  \n",
       "2          1675    Melody Herzog              Strosin and Sons  False  \n",
       "3           681        Uriah Toy        Wunsch and Douglas LLC   True  \n",
       "4          1199        Kira Kris                 Dickinson LLC  False  "
      ]
     },
     "execution_count": 10,
     "metadata": {},
     "output_type": "execute_result"
    }
   ],
   "source": [
    "# Заполнение всех пропущенных значений нулями\n",
    "# В данном случае это некорректно, так как нулями заполняются в том числе категориальные колонки\n",
    "data_new_3 = data.fillna(0)\n",
    "data_new_3.head()"
   ]
  },
  {
   "cell_type": "code",
   "execution_count": 11,
   "id": "furnished-round",
   "metadata": {},
   "outputs": [
    {
     "name": "stdout",
     "output_type": "stream",
     "text": [
      "Колонка order_id. Тип данных float64. Количество пустых значений 720, 7.2%.\n",
      "Колонка make_id. Тип данных float64. Количество пустых значений 1916, 19.16%.\n",
      "Колонка time_id. Тип данных float64. Количество пустых значений 213, 2.13%.\n",
      "Колонка this_id. Тип данных float64. Количество пустых значений 984, 9.84%.\n",
      "Колонка my_float. Тип данных float64. Количество пустых значений 2178, 21.78%.\n"
     ]
    }
   ],
   "source": [
    "# Выберем числовые колонки с пропущенными значениями\n",
    "# Цикл по колонкам датасета\n",
    "num_cols = []\n",
    "for col in data.columns:\n",
    "    # Количество пустых значений \n",
    "    temp_null_count = data[data[col].isnull()].shape[0]\n",
    "    dt = str(data[col].dtype)\n",
    "    if temp_null_count>0 and (dt=='float64' or dt=='int64'):\n",
    "        num_cols.append(col)\n",
    "        temp_perc = round((temp_null_count / total_count) * 100.0, 2)\n",
    "        print('Колонка {}. Тип данных {}. Количество пустых значений {}, {}%.'.format(col, dt, temp_null_count, temp_perc))"
   ]
  },
  {
   "cell_type": "code",
   "execution_count": 12,
   "id": "polar-afghanistan",
   "metadata": {},
   "outputs": [
    {
     "data": {
      "text/html": [
       "<div>\n",
       "<style scoped>\n",
       "    .dataframe tbody tr th:only-of-type {\n",
       "        vertical-align: middle;\n",
       "    }\n",
       "\n",
       "    .dataframe tbody tr th {\n",
       "        vertical-align: top;\n",
       "    }\n",
       "\n",
       "    .dataframe thead th {\n",
       "        text-align: right;\n",
       "    }\n",
       "</style>\n",
       "<table border=\"1\" class=\"dataframe\">\n",
       "  <thead>\n",
       "    <tr style=\"text-align: right;\">\n",
       "      <th></th>\n",
       "      <th>order_id</th>\n",
       "      <th>make_id</th>\n",
       "      <th>time_id</th>\n",
       "      <th>this_id</th>\n",
       "      <th>my_float</th>\n",
       "    </tr>\n",
       "  </thead>\n",
       "  <tbody>\n",
       "    <tr>\n",
       "      <th>0</th>\n",
       "      <td>1733.0</td>\n",
       "      <td>NaN</td>\n",
       "      <td>417.0</td>\n",
       "      <td>NaN</td>\n",
       "      <td>NaN</td>\n",
       "    </tr>\n",
       "    <tr>\n",
       "      <th>1</th>\n",
       "      <td>1639.0</td>\n",
       "      <td>1663.0</td>\n",
       "      <td>NaN</td>\n",
       "      <td>683.0</td>\n",
       "      <td>NaN</td>\n",
       "    </tr>\n",
       "    <tr>\n",
       "      <th>2</th>\n",
       "      <td>1868.0</td>\n",
       "      <td>1998.0</td>\n",
       "      <td>1406.0</td>\n",
       "      <td>1710.0</td>\n",
       "      <td>1743.058166</td>\n",
       "    </tr>\n",
       "    <tr>\n",
       "      <th>3</th>\n",
       "      <td>978.0</td>\n",
       "      <td>481.0</td>\n",
       "      <td>1161.0</td>\n",
       "      <td>879.0</td>\n",
       "      <td>NaN</td>\n",
       "    </tr>\n",
       "    <tr>\n",
       "      <th>4</th>\n",
       "      <td>602.0</td>\n",
       "      <td>686.0</td>\n",
       "      <td>1281.0</td>\n",
       "      <td>907.0</td>\n",
       "      <td>994.840977</td>\n",
       "    </tr>\n",
       "    <tr>\n",
       "      <th>...</th>\n",
       "      <td>...</td>\n",
       "      <td>...</td>\n",
       "      <td>...</td>\n",
       "      <td>...</td>\n",
       "      <td>...</td>\n",
       "    </tr>\n",
       "    <tr>\n",
       "      <th>9996</th>\n",
       "      <td>1555.0</td>\n",
       "      <td>276.0</td>\n",
       "      <td>1995.0</td>\n",
       "      <td>1382.0</td>\n",
       "      <td>1606.885323</td>\n",
       "    </tr>\n",
       "    <tr>\n",
       "      <th>9997</th>\n",
       "      <td>1619.0</td>\n",
       "      <td>969.0</td>\n",
       "      <td>1041.0</td>\n",
       "      <td>1067.0</td>\n",
       "      <td>1384.289517</td>\n",
       "    </tr>\n",
       "    <tr>\n",
       "      <th>9998</th>\n",
       "      <td>1708.0</td>\n",
       "      <td>1698.0</td>\n",
       "      <td>390.0</td>\n",
       "      <td>376.0</td>\n",
       "      <td>1855.714368</td>\n",
       "    </tr>\n",
       "    <tr>\n",
       "      <th>9999</th>\n",
       "      <td>1791.0</td>\n",
       "      <td>956.0</td>\n",
       "      <td>1518.0</td>\n",
       "      <td>1113.0</td>\n",
       "      <td>1511.138422</td>\n",
       "    </tr>\n",
       "    <tr>\n",
       "      <th>10000</th>\n",
       "      <td>395.0</td>\n",
       "      <td>1357.0</td>\n",
       "      <td>765.0</td>\n",
       "      <td>1086.0</td>\n",
       "      <td>NaN</td>\n",
       "    </tr>\n",
       "  </tbody>\n",
       "</table>\n",
       "<p>10001 rows × 5 columns</p>\n",
       "</div>"
      ],
      "text/plain": [
       "       order_id  make_id  time_id  this_id     my_float\n",
       "0        1733.0      NaN    417.0      NaN          NaN\n",
       "1        1639.0   1663.0      NaN    683.0          NaN\n",
       "2        1868.0   1998.0   1406.0   1710.0  1743.058166\n",
       "3         978.0    481.0   1161.0    879.0          NaN\n",
       "4         602.0    686.0   1281.0    907.0   994.840977\n",
       "...         ...      ...      ...      ...          ...\n",
       "9996     1555.0    276.0   1995.0   1382.0  1606.885323\n",
       "9997     1619.0    969.0   1041.0   1067.0  1384.289517\n",
       "9998     1708.0   1698.0    390.0    376.0  1855.714368\n",
       "9999     1791.0    956.0   1518.0   1113.0  1511.138422\n",
       "10000     395.0   1357.0    765.0   1086.0          NaN\n",
       "\n",
       "[10001 rows x 5 columns]"
      ]
     },
     "execution_count": 12,
     "metadata": {},
     "output_type": "execute_result"
    }
   ],
   "source": [
    "# Фильтр по колонкам с пропущенными значениями\n",
    "data_num = data[num_cols]\n",
    "data_num"
   ]
  },
  {
   "cell_type": "code",
   "execution_count": 13,
   "id": "musical-metallic",
   "metadata": {},
   "outputs": [
    {
     "data": {
      "image/png": "[encoded data removed]",
      "text/plain": [
       "<Figure size 432x288 with 1 Axes>"
      ]
     },
     "metadata": {},
     "output_type": "display_data"
    },
    {
     "data": {
      "image/png": "[encoded data removed]",
      "text/plain": [
       "<Figure size 432x288 with 1 Axes>"
      ]
     },
     "metadata": {},
     "output_type": "display_data"
    },
    {
     "data": {
      "image/png": "[encoded data removed]",
      "text/plain": [
       "<Figure size 432x288 with 1 Axes>"
      ]
     },
     "metadata": {},
     "output_type": "display_data"
    },
    {
     "data": {
      "image/png": "[encoded data removed]",
      "text/plain": [
       "<Figure size 432x288 with 1 Axes>"
      ]
     },
     "metadata": {},
     "output_type": "display_data"
    },
    {
     "data": {
      "image/png": "[encoded data removed]",
      "text/plain": [
       "<Figure size 432x288 with 1 Axes>"
      ]
     },
     "metadata": {},
     "output_type": "display_data"
    }
   ],
   "source": [
    "# Гистограмма по признакам\n",
    "for col in data_num:\n",
    "    plt.hist(data[col], 50)\n",
    "    plt.xlabel(col)\n",
    "    plt.show()"
   ]
  },
  {
   "cell_type": "markdown",
   "id": "valid-accent",
   "metadata": {},
   "source": [
    "## Импутация данных"
   ]
  },
  {
   "cell_type": "code",
   "execution_count": 14,
   "id": "miniature-thinking",
   "metadata": {},
   "outputs": [
    {
     "data": {
      "text/html": [
       "<div>\n",
       "<style scoped>\n",
       "    .dataframe tbody tr th:only-of-type {\n",
       "        vertical-align: middle;\n",
       "    }\n",
       "\n",
       "    .dataframe tbody tr th {\n",
       "        vertical-align: top;\n",
       "    }\n",
       "\n",
       "    .dataframe thead th {\n",
       "        text-align: right;\n",
       "    }\n",
       "</style>\n",
       "<table border=\"1\" class=\"dataframe\">\n",
       "  <thead>\n",
       "    <tr style=\"text-align: right;\">\n",
       "      <th></th>\n",
       "      <th>order_id</th>\n",
       "    </tr>\n",
       "  </thead>\n",
       "  <tbody>\n",
       "    <tr>\n",
       "      <th>0</th>\n",
       "      <td>1733.0</td>\n",
       "    </tr>\n",
       "    <tr>\n",
       "      <th>1</th>\n",
       "      <td>1639.0</td>\n",
       "    </tr>\n",
       "    <tr>\n",
       "      <th>2</th>\n",
       "      <td>1868.0</td>\n",
       "    </tr>\n",
       "    <tr>\n",
       "      <th>3</th>\n",
       "      <td>978.0</td>\n",
       "    </tr>\n",
       "    <tr>\n",
       "      <th>4</th>\n",
       "      <td>602.0</td>\n",
       "    </tr>\n",
       "  </tbody>\n",
       "</table>\n",
       "</div>"
      ],
      "text/plain": [
       "   order_id\n",
       "0    1733.0\n",
       "1    1639.0\n",
       "2    1868.0\n",
       "3     978.0\n",
       "4     602.0"
      ]
     },
     "execution_count": 14,
     "metadata": {},
     "output_type": "execute_result"
    }
   ],
   "source": [
    "data_num_Order_id = data_num[['order_id']]\n",
    "data_num_Order_id.head()"
   ]
  },
  {
   "cell_type": "code",
   "execution_count": 15,
   "id": "clinical-newspaper",
   "metadata": {},
   "outputs": [],
   "source": [
    "from sklearn.impute import SimpleImputer\n",
    "from sklearn.impute import MissingIndicator"
   ]
  },
  {
   "cell_type": "code",
   "execution_count": 16,
   "id": "typical-circus",
   "metadata": {},
   "outputs": [
    {
     "data": {
      "text/plain": [
       "array([[False],\n",
       "       [False],\n",
       "       [False],\n",
       "       ...,\n",
       "       [False],\n",
       "       [False],\n",
       "       [False]])"
      ]
     },
     "execution_count": 16,
     "metadata": {},
     "output_type": "execute_result"
    }
   ],
   "source": [
    "# Фильтр для проверки заполнения пустых значений\n",
    "indicator = MissingIndicator()\n",
    "mask_missing_values_only = indicator.fit_transform(data_num_Order_id)\n",
    "mask_missing_values_only"
   ]
  },
  {
   "cell_type": "code",
   "execution_count": 17,
   "id": "thousand-creation",
   "metadata": {},
   "outputs": [],
   "source": [
    "strategies=['mean', 'median', 'most_frequent']"
   ]
  },
  {
   "cell_type": "code",
   "execution_count": 18,
   "id": "fresh-private",
   "metadata": {},
   "outputs": [],
   "source": [
    "def test_num_impute(strategy_param):\n",
    "    imp_num = SimpleImputer(strategy=strategy_param)\n",
    "    data_num_imp = imp_num.fit_transform(data_num_Order_id)\n",
    "    return data_num_imp[mask_missing_values_only]"
   ]
  },
  {
   "cell_type": "code",
   "execution_count": 19,
   "id": "intimate-identity",
   "metadata": {},
   "outputs": [
    {
     "data": {
      "text/plain": [
       "('mean',\n",
       " array([989.60176705, 989.60176705, 989.60176705, 989.60176705,\n",
       "        989.60176705, 989.60176705, 989.60176705, 989.60176705,\n",
       "        989.60176705, 989.60176705, 989.60176705, 989.60176705,\n",
       "        989.60176705, 989.60176705, 989.60176705, 989.60176705,\n",
       "        989.60176705, 989.60176705, 989.60176705, 989.60176705,\n",
       "        989.60176705, 989.60176705, 989.60176705, 989.60176705,\n",
       "        989.60176705, 989.60176705, 989.60176705, 989.60176705,\n",
       "        989.60176705, 989.60176705, 989.60176705, 989.60176705,\n",
       "        989.60176705, 989.60176705, 989.60176705, 989.60176705,\n",
       "        989.60176705, 989.60176705, 989.60176705, 989.60176705,\n",
       "        989.60176705, 989.60176705, 989.60176705, 989.60176705,\n",
       "        989.60176705, 989.60176705, 989.60176705, 989.60176705,\n",
       "        989.60176705, 989.60176705, 989.60176705, 989.60176705,\n",
       "        989.60176705, 989.60176705, 989.60176705, 989.60176705,\n",
       "        989.60176705, 989.60176705, 989.60176705, 989.60176705,\n",
       "        989.60176705, 989.60176705, 989.60176705, 989.60176705,\n",
       "        989.60176705, 989.60176705, 989.60176705, 989.60176705,\n",
       "        989.60176705, 989.60176705, 989.60176705, 989.60176705,\n",
       "        989.60176705, 989.60176705, 989.60176705, 989.60176705,\n",
       "        989.60176705, 989.60176705, 989.60176705, 989.60176705,\n",
       "        989.60176705, 989.60176705, 989.60176705, 989.60176705,\n",
       "        989.60176705, 989.60176705, 989.60176705, 989.60176705,\n",
       "        989.60176705, 989.60176705, 989.60176705, 989.60176705,\n",
       "        989.60176705, 989.60176705, 989.60176705, 989.60176705,\n",
       "        989.60176705, 989.60176705, 989.60176705, 989.60176705,\n",
       "        989.60176705, 989.60176705, 989.60176705, 989.60176705,\n",
       "        989.60176705, 989.60176705, 989.60176705, 989.60176705,\n",
       "        989.60176705, 989.60176705, 989.60176705, 989.60176705,\n",
       "        989.60176705, 989.60176705, 989.60176705, 989.60176705,\n",
       "        989.60176705, 989.60176705, 989.60176705, 989.60176705,\n",
       "        989.60176705, 989.60176705, 989.60176705, 989.60176705,\n",
       "        989.60176705, 989.60176705, 989.60176705, 989.60176705,\n",
       "        989.60176705, 989.60176705, 989.60176705, 989.60176705,\n",
       "        989.60176705, 989.60176705, 989.60176705, 989.60176705,\n",
       "        989.60176705, 989.60176705, 989.60176705, 989.60176705,\n",
       "        989.60176705, 989.60176705, 989.60176705, 989.60176705,\n",
       "        989.60176705, 989.60176705, 989.60176705, 989.60176705,\n",
       "        989.60176705, 989.60176705, 989.60176705, 989.60176705,\n",
       "        989.60176705, 989.60176705, 989.60176705, 989.60176705,\n",
       "        989.60176705, 989.60176705, 989.60176705, 989.60176705,\n",
       "        989.60176705, 989.60176705, 989.60176705, 989.60176705,\n",
       "        989.60176705, 989.60176705, 989.60176705, 989.60176705,\n",
       "        989.60176705, 989.60176705, 989.60176705, 989.60176705,\n",
       "        989.60176705, 989.60176705, 989.60176705, 989.60176705,\n",
       "        989.60176705, 989.60176705, 989.60176705, 989.60176705,\n",
       "        989.60176705, 989.60176705, 989.60176705, 989.60176705,\n",
       "        989.60176705, 989.60176705, 989.60176705, 989.60176705,\n",
       "        989.60176705, 989.60176705, 989.60176705, 989.60176705,\n",
       "        989.60176705, 989.60176705, 989.60176705, 989.60176705,\n",
       "        989.60176705, 989.60176705, 989.60176705, 989.60176705,\n",
       "        989.60176705, 989.60176705, 989.60176705, 989.60176705,\n",
       "        989.60176705, 989.60176705, 989.60176705, 989.60176705,\n",
       "        989.60176705, 989.60176705, 989.60176705, 989.60176705,\n",
       "        989.60176705, 989.60176705, 989.60176705, 989.60176705,\n",
       "        989.60176705, 989.60176705, 989.60176705, 989.60176705,\n",
       "        989.60176705, 989.60176705, 989.60176705, 989.60176705,\n",
       "        989.60176705, 989.60176705, 989.60176705, 989.60176705,\n",
       "        989.60176705, 989.60176705, 989.60176705, 989.60176705,\n",
       "        989.60176705, 989.60176705, 989.60176705, 989.60176705,\n",
       "        989.60176705, 989.60176705, 989.60176705, 989.60176705,\n",
       "        989.60176705, 989.60176705, 989.60176705, 989.60176705,\n",
       "        989.60176705, 989.60176705, 989.60176705, 989.60176705,\n",
       "        989.60176705, 989.60176705, 989.60176705, 989.60176705,\n",
       "        989.60176705, 989.60176705, 989.60176705, 989.60176705,\n",
       "        989.60176705, 989.60176705, 989.60176705, 989.60176705,\n",
       "        989.60176705, 989.60176705, 989.60176705, 989.60176705,\n",
       "        989.60176705, 989.60176705, 989.60176705, 989.60176705,\n",
       "        989.60176705, 989.60176705, 989.60176705, 989.60176705,\n",
       "        989.60176705, 989.60176705, 989.60176705, 989.60176705,\n",
       "        989.60176705, 989.60176705, 989.60176705, 989.60176705,\n",
       "        989.60176705, 989.60176705, 989.60176705, 989.60176705,\n",
       "        989.60176705, 989.60176705, 989.60176705, 989.60176705,\n",
       "        989.60176705, 989.60176705, 989.60176705, 989.60176705,\n",
       "        989.60176705, 989.60176705, 989.60176705, 989.60176705,\n",
       "        989.60176705, 989.60176705, 989.60176705, 989.60176705,\n",
       "        989.60176705, 989.60176705, 989.60176705, 989.60176705,\n",
       "        989.60176705, 989.60176705, 989.60176705, 989.60176705,\n",
       "        989.60176705, 989.60176705, 989.60176705, 989.60176705,\n",
       "        989.60176705, 989.60176705, 989.60176705, 989.60176705,\n",
       "        989.60176705, 989.60176705, 989.60176705, 989.60176705,\n",
       "        989.60176705, 989.60176705, 989.60176705, 989.60176705,\n",
       "        989.60176705, 989.60176705, 989.60176705, 989.60176705,\n",
       "        989.60176705, 989.60176705, 989.60176705, 989.60176705,\n",
       "        989.60176705, 989.60176705, 989.60176705, 989.60176705,\n",
       "        989.60176705, 989.60176705, 989.60176705, 989.60176705,\n",
       "        989.60176705, 989.60176705, 989.60176705, 989.60176705,\n",
       "        989.60176705, 989.60176705, 989.60176705, 989.60176705,\n",
       "        989.60176705, 989.60176705, 989.60176705, 989.60176705,\n",
       "        989.60176705, 989.60176705, 989.60176705, 989.60176705,\n",
       "        989.60176705, 989.60176705, 989.60176705, 989.60176705,\n",
       "        989.60176705, 989.60176705, 989.60176705, 989.60176705,\n",
       "        989.60176705, 989.60176705, 989.60176705, 989.60176705,\n",
       "        989.60176705, 989.60176705, 989.60176705, 989.60176705,\n",
       "        989.60176705, 989.60176705, 989.60176705, 989.60176705,\n",
       "        989.60176705, 989.60176705, 989.60176705, 989.60176705,\n",
       "        989.60176705, 989.60176705, 989.60176705, 989.60176705,\n",
       "        989.60176705, 989.60176705, 989.60176705, 989.60176705,\n",
       "        989.60176705, 989.60176705, 989.60176705, 989.60176705,\n",
       "        989.60176705, 989.60176705, 989.60176705, 989.60176705,\n",
       "        989.60176705, 989.60176705, 989.60176705, 989.60176705,\n",
       "        989.60176705, 989.60176705, 989.60176705, 989.60176705,\n",
       "        989.60176705, 989.60176705, 989.60176705, 989.60176705,\n",
       "        989.60176705, 989.60176705, 989.60176705, 989.60176705,\n",
       "        989.60176705, 989.60176705, 989.60176705, 989.60176705,\n",
       "        989.60176705, 989.60176705, 989.60176705, 989.60176705,\n",
       "        989.60176705, 989.60176705, 989.60176705, 989.60176705,\n",
       "        989.60176705, 989.60176705, 989.60176705, 989.60176705,\n",
       "        989.60176705, 989.60176705, 989.60176705, 989.60176705,\n",
       "        989.60176705, 989.60176705, 989.60176705, 989.60176705,\n",
       "        989.60176705, 989.60176705, 989.60176705, 989.60176705,\n",
       "        989.60176705, 989.60176705, 989.60176705, 989.60176705,\n",
       "        989.60176705, 989.60176705, 989.60176705, 989.60176705,\n",
       "        989.60176705, 989.60176705, 989.60176705, 989.60176705,\n",
       "        989.60176705, 989.60176705, 989.60176705, 989.60176705,\n",
       "        989.60176705, 989.60176705, 989.60176705, 989.60176705,\n",
       "        989.60176705, 989.60176705, 989.60176705, 989.60176705,\n",
       "        989.60176705, 989.60176705, 989.60176705, 989.60176705,\n",
       "        989.60176705, 989.60176705, 989.60176705, 989.60176705,\n",
       "        989.60176705, 989.60176705, 989.60176705, 989.60176705,\n",
       "        989.60176705, 989.60176705, 989.60176705, 989.60176705,\n",
       "        989.60176705, 989.60176705, 989.60176705, 989.60176705,\n",
       "        989.60176705, 989.60176705, 989.60176705, 989.60176705,\n",
       "        989.60176705, 989.60176705, 989.60176705, 989.60176705,\n",
       "        989.60176705, 989.60176705, 989.60176705, 989.60176705,\n",
       "        989.60176705, 989.60176705, 989.60176705, 989.60176705,\n",
       "        989.60176705, 989.60176705, 989.60176705, 989.60176705,\n",
       "        989.60176705, 989.60176705, 989.60176705, 989.60176705,\n",
       "        989.60176705, 989.60176705, 989.60176705, 989.60176705,\n",
       "        989.60176705, 989.60176705, 989.60176705, 989.60176705,\n",
       "        989.60176705, 989.60176705, 989.60176705, 989.60176705,\n",
       "        989.60176705, 989.60176705, 989.60176705, 989.60176705,\n",
       "        989.60176705, 989.60176705, 989.60176705, 989.60176705,\n",
       "        989.60176705, 989.60176705, 989.60176705, 989.60176705,\n",
       "        989.60176705, 989.60176705, 989.60176705, 989.60176705,\n",
       "        989.60176705, 989.60176705, 989.60176705, 989.60176705,\n",
       "        989.60176705, 989.60176705, 989.60176705, 989.60176705,\n",
       "        989.60176705, 989.60176705, 989.60176705, 989.60176705,\n",
       "        989.60176705, 989.60176705, 989.60176705, 989.60176705,\n",
       "        989.60176705, 989.60176705, 989.60176705, 989.60176705,\n",
       "        989.60176705, 989.60176705, 989.60176705, 989.60176705,\n",
       "        989.60176705, 989.60176705, 989.60176705, 989.60176705,\n",
       "        989.60176705, 989.60176705, 989.60176705, 989.60176705,\n",
       "        989.60176705, 989.60176705, 989.60176705, 989.60176705,\n",
       "        989.60176705, 989.60176705, 989.60176705, 989.60176705,\n",
       "        989.60176705, 989.60176705, 989.60176705, 989.60176705,\n",
       "        989.60176705, 989.60176705, 989.60176705, 989.60176705,\n",
       "        989.60176705, 989.60176705, 989.60176705, 989.60176705,\n",
       "        989.60176705, 989.60176705, 989.60176705, 989.60176705,\n",
       "        989.60176705, 989.60176705, 989.60176705, 989.60176705,\n",
       "        989.60176705, 989.60176705, 989.60176705, 989.60176705,\n",
       "        989.60176705, 989.60176705, 989.60176705, 989.60176705,\n",
       "        989.60176705, 989.60176705, 989.60176705, 989.60176705,\n",
       "        989.60176705, 989.60176705, 989.60176705, 989.60176705,\n",
       "        989.60176705, 989.60176705, 989.60176705, 989.60176705,\n",
       "        989.60176705, 989.60176705, 989.60176705, 989.60176705,\n",
       "        989.60176705, 989.60176705, 989.60176705, 989.60176705,\n",
       "        989.60176705, 989.60176705, 989.60176705, 989.60176705,\n",
       "        989.60176705, 989.60176705, 989.60176705, 989.60176705,\n",
       "        989.60176705, 989.60176705, 989.60176705, 989.60176705,\n",
       "        989.60176705, 989.60176705, 989.60176705, 989.60176705,\n",
       "        989.60176705, 989.60176705, 989.60176705, 989.60176705,\n",
       "        989.60176705, 989.60176705, 989.60176705, 989.60176705,\n",
       "        989.60176705, 989.60176705, 989.60176705, 989.60176705,\n",
       "        989.60176705, 989.60176705, 989.60176705, 989.60176705,\n",
       "        989.60176705, 989.60176705, 989.60176705, 989.60176705,\n",
       "        989.60176705, 989.60176705, 989.60176705, 989.60176705,\n",
       "        989.60176705, 989.60176705, 989.60176705, 989.60176705,\n",
       "        989.60176705, 989.60176705, 989.60176705, 989.60176705,\n",
       "        989.60176705, 989.60176705, 989.60176705, 989.60176705,\n",
       "        989.60176705, 989.60176705, 989.60176705, 989.60176705,\n",
       "        989.60176705, 989.60176705, 989.60176705, 989.60176705,\n",
       "        989.60176705, 989.60176705, 989.60176705, 989.60176705,\n",
       "        989.60176705, 989.60176705, 989.60176705, 989.60176705,\n",
       "        989.60176705, 989.60176705, 989.60176705, 989.60176705,\n",
       "        989.60176705, 989.60176705, 989.60176705, 989.60176705,\n",
       "        989.60176705, 989.60176705, 989.60176705, 989.60176705,\n",
       "        989.60176705, 989.60176705, 989.60176705, 989.60176705,\n",
       "        989.60176705, 989.60176705, 989.60176705, 989.60176705,\n",
       "        989.60176705, 989.60176705, 989.60176705, 989.60176705,\n",
       "        989.60176705, 989.60176705, 989.60176705, 989.60176705]))"
      ]
     },
     "execution_count": 19,
     "metadata": {},
     "output_type": "execute_result"
    }
   ],
   "source": [
    "strategies[0], test_num_impute(strategies[0])"
   ]
  },
  {
   "cell_type": "code",
   "execution_count": 20,
   "id": "empty-belgium",
   "metadata": {},
   "outputs": [
    {
     "data": {
      "text/plain": [
       "('median',\n",
       " array([986., 986., 986., 986., 986., 986., 986., 986., 986., 986., 986.,\n",
       "        986., 986., 986., 986., 986., 986., 986., 986., 986., 986., 986.,\n",
       "        986., 986., 986., 986., 986., 986., 986., 986., 986., 986., 986.,\n",
       "        986., 986., 986., 986., 986., 986., 986., 986., 986., 986., 986.,\n",
       "        986., 986., 986., 986., 986., 986., 986., 986., 986., 986., 986.,\n",
       "        986., 986., 986., 986., 986., 986., 986., 986., 986., 986., 986.,\n",
       "        986., 986., 986., 986., 986., 986., 986., 986., 986., 986., 986.,\n",
       "        986., 986., 986., 986., 986., 986., 986., 986., 986., 986., 986.,\n",
       "        986., 986., 986., 986., 986., 986., 986., 986., 986., 986., 986.,\n",
       "        986., 986., 986., 986., 986., 986., 986., 986., 986., 986., 986.,\n",
       "        986., 986., 986., 986., 986., 986., 986., 986., 986., 986., 986.,\n",
       "        986., 986., 986., 986., 986., 986., 986., 986., 986., 986., 986.,\n",
       "        986., 986., 986., 986., 986., 986., 986., 986., 986., 986., 986.,\n",
       "        986., 986., 986., 986., 986., 986., 986., 986., 986., 986., 986.,\n",
       "        986., 986., 986., 986., 986., 986., 986., 986., 986., 986., 986.,\n",
       "        986., 986., 986., 986., 986., 986., 986., 986., 986., 986., 986.,\n",
       "        986., 986., 986., 986., 986., 986., 986., 986., 986., 986., 986.,\n",
       "        986., 986., 986., 986., 986., 986., 986., 986., 986., 986., 986.,\n",
       "        986., 986., 986., 986., 986., 986., 986., 986., 986., 986., 986.,\n",
       "        986., 986., 986., 986., 986., 986., 986., 986., 986., 986., 986.,\n",
       "        986., 986., 986., 986., 986., 986., 986., 986., 986., 986., 986.,\n",
       "        986., 986., 986., 986., 986., 986., 986., 986., 986., 986., 986.,\n",
       "        986., 986., 986., 986., 986., 986., 986., 986., 986., 986., 986.,\n",
       "        986., 986., 986., 986., 986., 986., 986., 986., 986., 986., 986.,\n",
       "        986., 986., 986., 986., 986., 986., 986., 986., 986., 986., 986.,\n",
       "        986., 986., 986., 986., 986., 986., 986., 986., 986., 986., 986.,\n",
       "        986., 986., 986., 986., 986., 986., 986., 986., 986., 986., 986.,\n",
       "        986., 986., 986., 986., 986., 986., 986., 986., 986., 986., 986.,\n",
       "        986., 986., 986., 986., 986., 986., 986., 986., 986., 986., 986.,\n",
       "        986., 986., 986., 986., 986., 986., 986., 986., 986., 986., 986.,\n",
       "        986., 986., 986., 986., 986., 986., 986., 986., 986., 986., 986.,\n",
       "        986., 986., 986., 986., 986., 986., 986., 986., 986., 986., 986.,\n",
       "        986., 986., 986., 986., 986., 986., 986., 986., 986., 986., 986.,\n",
       "        986., 986., 986., 986., 986., 986., 986., 986., 986., 986., 986.,\n",
       "        986., 986., 986., 986., 986., 986., 986., 986., 986., 986., 986.,\n",
       "        986., 986., 986., 986., 986., 986., 986., 986., 986., 986., 986.,\n",
       "        986., 986., 986., 986., 986., 986., 986., 986., 986., 986., 986.,\n",
       "        986., 986., 986., 986., 986., 986., 986., 986., 986., 986., 986.,\n",
       "        986., 986., 986., 986., 986., 986., 986., 986., 986., 986., 986.,\n",
       "        986., 986., 986., 986., 986., 986., 986., 986., 986., 986., 986.,\n",
       "        986., 986., 986., 986., 986., 986., 986., 986., 986., 986., 986.,\n",
       "        986., 986., 986., 986., 986., 986., 986., 986., 986., 986., 986.,\n",
       "        986., 986., 986., 986., 986., 986., 986., 986., 986., 986., 986.,\n",
       "        986., 986., 986., 986., 986., 986., 986., 986., 986., 986., 986.,\n",
       "        986., 986., 986., 986., 986., 986., 986., 986., 986., 986., 986.,\n",
       "        986., 986., 986., 986., 986., 986., 986., 986., 986., 986., 986.,\n",
       "        986., 986., 986., 986., 986., 986., 986., 986., 986., 986., 986.,\n",
       "        986., 986., 986., 986., 986., 986., 986., 986., 986., 986., 986.,\n",
       "        986., 986., 986., 986., 986., 986., 986., 986., 986., 986., 986.,\n",
       "        986., 986., 986., 986., 986., 986., 986., 986., 986., 986., 986.,\n",
       "        986., 986., 986., 986., 986., 986., 986., 986., 986., 986., 986.,\n",
       "        986., 986., 986., 986., 986., 986., 986., 986., 986., 986., 986.,\n",
       "        986., 986., 986., 986., 986., 986., 986., 986., 986., 986., 986.,\n",
       "        986., 986., 986., 986., 986., 986., 986., 986., 986., 986., 986.,\n",
       "        986., 986., 986., 986., 986., 986., 986., 986., 986., 986., 986.,\n",
       "        986., 986., 986., 986., 986., 986., 986., 986., 986., 986., 986.,\n",
       "        986., 986., 986., 986., 986., 986., 986., 986., 986., 986., 986.,\n",
       "        986., 986., 986., 986., 986., 986., 986., 986., 986., 986., 986.,\n",
       "        986., 986., 986., 986., 986., 986., 986., 986., 986., 986., 986.,\n",
       "        986., 986., 986., 986., 986., 986., 986., 986., 986., 986., 986.,\n",
       "        986., 986., 986., 986., 986., 986., 986., 986., 986., 986., 986.,\n",
       "        986., 986., 986., 986., 986., 986., 986., 986., 986., 986., 986.,\n",
       "        986., 986., 986., 986., 986., 986., 986., 986., 986., 986., 986.,\n",
       "        986., 986., 986., 986., 986., 986., 986., 986., 986., 986., 986.,\n",
       "        986., 986., 986., 986., 986., 986., 986., 986., 986., 986., 986.,\n",
       "        986., 986., 986., 986., 986.]))"
      ]
     },
     "execution_count": 20,
     "metadata": {},
     "output_type": "execute_result"
    }
   ],
   "source": [
    "strategies[1], test_num_impute(strategies[1])"
   ]
  },
  {
   "cell_type": "code",
   "execution_count": 21,
   "id": "centered-chosen",
   "metadata": {},
   "outputs": [
    {
     "data": {
      "text/plain": [
       "('most_frequent',\n",
       " array([1965., 1965., 1965., 1965., 1965., 1965., 1965., 1965., 1965.,\n",
       "        1965., 1965., 1965., 1965., 1965., 1965., 1965., 1965., 1965.,\n",
       "        1965., 1965., 1965., 1965., 1965., 1965., 1965., 1965., 1965.,\n",
       "        1965., 1965., 1965., 1965., 1965., 1965., 1965., 1965., 1965.,\n",
       "        1965., 1965., 1965., 1965., 1965., 1965., 1965., 1965., 1965.,\n",
       "        1965., 1965., 1965., 1965., 1965., 1965., 1965., 1965., 1965.,\n",
       "        1965., 1965., 1965., 1965., 1965., 1965., 1965., 1965., 1965.,\n",
       "        1965., 1965., 1965., 1965., 1965., 1965., 1965., 1965., 1965.,\n",
       "        1965., 1965., 1965., 1965., 1965., 1965., 1965., 1965., 1965.,\n",
       "        1965., 1965., 1965., 1965., 1965., 1965., 1965., 1965., 1965.,\n",
       "        1965., 1965., 1965., 1965., 1965., 1965., 1965., 1965., 1965.,\n",
       "        1965., 1965., 1965., 1965., 1965., 1965., 1965., 1965., 1965.,\n",
       "        1965., 1965., 1965., 1965., 1965., 1965., 1965., 1965., 1965.,\n",
       "        1965., 1965., 1965., 1965., 1965., 1965., 1965., 1965., 1965.,\n",
       "        1965., 1965., 1965., 1965., 1965., 1965., 1965., 1965., 1965.,\n",
       "        1965., 1965., 1965., 1965., 1965., 1965., 1965., 1965., 1965.,\n",
       "        1965., 1965., 1965., 1965., 1965., 1965., 1965., 1965., 1965.,\n",
       "        1965., 1965., 1965., 1965., 1965., 1965., 1965., 1965., 1965.,\n",
       "        1965., 1965., 1965., 1965., 1965., 1965., 1965., 1965., 1965.,\n",
       "        1965., 1965., 1965., 1965., 1965., 1965., 1965., 1965., 1965.,\n",
       "        1965., 1965., 1965., 1965., 1965., 1965., 1965., 1965., 1965.,\n",
       "        1965., 1965., 1965., 1965., 1965., 1965., 1965., 1965., 1965.,\n",
       "        1965., 1965., 1965., 1965., 1965., 1965., 1965., 1965., 1965.,\n",
       "        1965., 1965., 1965., 1965., 1965., 1965., 1965., 1965., 1965.,\n",
       "        1965., 1965., 1965., 1965., 1965., 1965., 1965., 1965., 1965.,\n",
       "        1965., 1965., 1965., 1965., 1965., 1965., 1965., 1965., 1965.,\n",
       "        1965., 1965., 1965., 1965., 1965., 1965., 1965., 1965., 1965.,\n",
       "        1965., 1965., 1965., 1965., 1965., 1965., 1965., 1965., 1965.,\n",
       "        1965., 1965., 1965., 1965., 1965., 1965., 1965., 1965., 1965.,\n",
       "        1965., 1965., 1965., 1965., 1965., 1965., 1965., 1965., 1965.,\n",
       "        1965., 1965., 1965., 1965., 1965., 1965., 1965., 1965., 1965.,\n",
       "        1965., 1965., 1965., 1965., 1965., 1965., 1965., 1965., 1965.,\n",
       "        1965., 1965., 1965., 1965., 1965., 1965., 1965., 1965., 1965.,\n",
       "        1965., 1965., 1965., 1965., 1965., 1965., 1965., 1965., 1965.,\n",
       "        1965., 1965., 1965., 1965., 1965., 1965., 1965., 1965., 1965.,\n",
       "        1965., 1965., 1965., 1965., 1965., 1965., 1965., 1965., 1965.,\n",
       "        1965., 1965., 1965., 1965., 1965., 1965., 1965., 1965., 1965.,\n",
       "        1965., 1965., 1965., 1965., 1965., 1965., 1965., 1965., 1965.,\n",
       "        1965., 1965., 1965., 1965., 1965., 1965., 1965., 1965., 1965.,\n",
       "        1965., 1965., 1965., 1965., 1965., 1965., 1965., 1965., 1965.,\n",
       "        1965., 1965., 1965., 1965., 1965., 1965., 1965., 1965., 1965.,\n",
       "        1965., 1965., 1965., 1965., 1965., 1965., 1965., 1965., 1965.,\n",
       "        1965., 1965., 1965., 1965., 1965., 1965., 1965., 1965., 1965.,\n",
       "        1965., 1965., 1965., 1965., 1965., 1965., 1965., 1965., 1965.,\n",
       "        1965., 1965., 1965., 1965., 1965., 1965., 1965., 1965., 1965.,\n",
       "        1965., 1965., 1965., 1965., 1965., 1965., 1965., 1965., 1965.,\n",
       "        1965., 1965., 1965., 1965., 1965., 1965., 1965., 1965., 1965.,\n",
       "        1965., 1965., 1965., 1965., 1965., 1965., 1965., 1965., 1965.,\n",
       "        1965., 1965., 1965., 1965., 1965., 1965., 1965., 1965., 1965.,\n",
       "        1965., 1965., 1965., 1965., 1965., 1965., 1965., 1965., 1965.,\n",
       "        1965., 1965., 1965., 1965., 1965., 1965., 1965., 1965., 1965.,\n",
       "        1965., 1965., 1965., 1965., 1965., 1965., 1965., 1965., 1965.,\n",
       "        1965., 1965., 1965., 1965., 1965., 1965., 1965., 1965., 1965.,\n",
       "        1965., 1965., 1965., 1965., 1965., 1965., 1965., 1965., 1965.,\n",
       "        1965., 1965., 1965., 1965., 1965., 1965., 1965., 1965., 1965.,\n",
       "        1965., 1965., 1965., 1965., 1965., 1965., 1965., 1965., 1965.,\n",
       "        1965., 1965., 1965., 1965., 1965., 1965., 1965., 1965., 1965.,\n",
       "        1965., 1965., 1965., 1965., 1965., 1965., 1965., 1965., 1965.,\n",
       "        1965., 1965., 1965., 1965., 1965., 1965., 1965., 1965., 1965.,\n",
       "        1965., 1965., 1965., 1965., 1965., 1965., 1965., 1965., 1965.,\n",
       "        1965., 1965., 1965., 1965., 1965., 1965., 1965., 1965., 1965.,\n",
       "        1965., 1965., 1965., 1965., 1965., 1965., 1965., 1965., 1965.,\n",
       "        1965., 1965., 1965., 1965., 1965., 1965., 1965., 1965., 1965.,\n",
       "        1965., 1965., 1965., 1965., 1965., 1965., 1965., 1965., 1965.,\n",
       "        1965., 1965., 1965., 1965., 1965., 1965., 1965., 1965., 1965.,\n",
       "        1965., 1965., 1965., 1965., 1965., 1965., 1965., 1965., 1965.,\n",
       "        1965., 1965., 1965., 1965., 1965., 1965., 1965., 1965., 1965.,\n",
       "        1965., 1965., 1965., 1965., 1965., 1965., 1965., 1965., 1965.,\n",
       "        1965., 1965., 1965., 1965., 1965., 1965., 1965., 1965., 1965.,\n",
       "        1965., 1965., 1965., 1965., 1965., 1965., 1965., 1965., 1965.,\n",
       "        1965., 1965., 1965., 1965., 1965., 1965., 1965., 1965., 1965.,\n",
       "        1965., 1965., 1965., 1965., 1965., 1965., 1965., 1965., 1965.,\n",
       "        1965., 1965., 1965., 1965., 1965., 1965., 1965., 1965., 1965.,\n",
       "        1965., 1965., 1965., 1965., 1965., 1965., 1965., 1965., 1965.,\n",
       "        1965., 1965., 1965., 1965., 1965., 1965., 1965., 1965., 1965.,\n",
       "        1965., 1965., 1965., 1965., 1965., 1965., 1965., 1965., 1965.,\n",
       "        1965., 1965., 1965., 1965., 1965., 1965., 1965., 1965., 1965.,\n",
       "        1965., 1965., 1965., 1965., 1965., 1965., 1965., 1965., 1965.,\n",
       "        1965., 1965., 1965., 1965., 1965., 1965., 1965., 1965., 1965.,\n",
       "        1965., 1965., 1965., 1965., 1965., 1965., 1965., 1965., 1965.]))"
      ]
     },
     "execution_count": 21,
     "metadata": {},
     "output_type": "execute_result"
    }
   ],
   "source": [
    "strategies[2], test_num_impute(strategies[2])"
   ]
  },
  {
   "cell_type": "code",
   "execution_count": 22,
   "id": "third-middle",
   "metadata": {},
   "outputs": [],
   "source": [
    "# Более сложная функция, которая позволяет задавать колонку и вид импьютации\n",
    "def test_num_impute_col(dataset, column, strategy_param):\n",
    "    temp_data = dataset[[column]]\n",
    "    \n",
    "    indicator = MissingIndicator()\n",
    "    mask_missing_values_only = indicator.fit_transform(temp_data)\n",
    "    \n",
    "    imp_num = SimpleImputer(strategy=strategy_param)\n",
    "    data_num_imp = imp_num.fit_transform(temp_data)\n",
    "    \n",
    "    filled_data = data_num_imp[mask_missing_values_only]\n",
    "    \n",
    "    return column, strategy_param, filled_data.size, filled_data[0], filled_data[filled_data.size-1]"
   ]
  },
  {
   "cell_type": "code",
   "execution_count": 23,
   "id": "caroline-information",
   "metadata": {},
   "outputs": [
    {
     "data": {
      "text/html": [
       "<div>\n",
       "<style scoped>\n",
       "    .dataframe tbody tr th:only-of-type {\n",
       "        vertical-align: middle;\n",
       "    }\n",
       "\n",
       "    .dataframe tbody tr th {\n",
       "        vertical-align: top;\n",
       "    }\n",
       "\n",
       "    .dataframe thead th {\n",
       "        text-align: right;\n",
       "    }\n",
       "</style>\n",
       "<table border=\"1\" class=\"dataframe\">\n",
       "  <thead>\n",
       "    <tr style=\"text-align: right;\">\n",
       "      <th></th>\n",
       "      <th>time_id</th>\n",
       "    </tr>\n",
       "  </thead>\n",
       "  <tbody>\n",
       "    <tr>\n",
       "      <th>count</th>\n",
       "      <td>9788.000000</td>\n",
       "    </tr>\n",
       "    <tr>\n",
       "      <th>mean</th>\n",
       "      <td>991.904168</td>\n",
       "    </tr>\n",
       "    <tr>\n",
       "      <th>std</th>\n",
       "      <td>577.227854</td>\n",
       "    </tr>\n",
       "    <tr>\n",
       "      <th>min</th>\n",
       "      <td>0.000000</td>\n",
       "    </tr>\n",
       "    <tr>\n",
       "      <th>25%</th>\n",
       "      <td>483.000000</td>\n",
       "    </tr>\n",
       "    <tr>\n",
       "      <th>50%</th>\n",
       "      <td>991.500000</td>\n",
       "    </tr>\n",
       "    <tr>\n",
       "      <th>75%</th>\n",
       "      <td>1488.250000</td>\n",
       "    </tr>\n",
       "    <tr>\n",
       "      <th>max</th>\n",
       "      <td>1999.000000</td>\n",
       "    </tr>\n",
       "  </tbody>\n",
       "</table>\n",
       "</div>"
      ],
      "text/plain": [
       "           time_id\n",
       "count  9788.000000\n",
       "mean    991.904168\n",
       "std     577.227854\n",
       "min       0.000000\n",
       "25%     483.000000\n",
       "50%     991.500000\n",
       "75%    1488.250000\n",
       "max    1999.000000"
      ]
     },
     "execution_count": 23,
     "metadata": {},
     "output_type": "execute_result"
    }
   ],
   "source": [
    "data[['time_id']].describe()"
   ]
  },
  {
   "cell_type": "code",
   "execution_count": 24,
   "id": "gross-peripheral",
   "metadata": {},
   "outputs": [
    {
     "data": {
      "text/plain": [
       "('time_id', 'mean', 213, 991.904168369432, 991.904168369432)"
      ]
     },
     "execution_count": 24,
     "metadata": {},
     "output_type": "execute_result"
    }
   ],
   "source": [
    "test_num_impute_col(data, 'time_id', strategies[0])"
   ]
  },
  {
   "cell_type": "code",
   "execution_count": 25,
   "id": "secret-registration",
   "metadata": {},
   "outputs": [
    {
     "data": {
      "text/plain": [
       "('time_id', 'median', 213, 991.5, 991.5)"
      ]
     },
     "execution_count": 25,
     "metadata": {},
     "output_type": "execute_result"
    }
   ],
   "source": [
    "test_num_impute_col(data, 'time_id', strategies[1])"
   ]
  },
  {
   "cell_type": "code",
   "execution_count": 26,
   "id": "thousand-liberty",
   "metadata": {},
   "outputs": [
    {
     "data": {
      "text/plain": [
       "('time_id', 'most_frequent', 213, 105.0, 105.0)"
      ]
     },
     "execution_count": 26,
     "metadata": {},
     "output_type": "execute_result"
    }
   ],
   "source": [
    "test_num_impute_col(data, 'time_id', strategies[2])"
   ]
  },
  {
   "cell_type": "markdown",
   "id": "secondary-pipeline",
   "metadata": {},
   "source": [
    "## Обработка пропусков в категориальных данных"
   ]
  },
  {
   "cell_type": "code",
   "execution_count": 27,
   "id": "worthy-cameroon",
   "metadata": {},
   "outputs": [
    {
     "name": "stdout",
     "output_type": "stream",
     "text": [
      "Колонка customer. Тип данных object. Количество пустых значений 272, 2.72%.\n",
      "Колонка paid. Тип данных object. Количество пустых значений 4050, 40.5%.\n"
     ]
    }
   ],
   "source": [
    "# Выберем категориальные колонки с пропущенными значениями\n",
    "# Цикл по колонкам датасета\n",
    "cat_cols = []\n",
    "for col in data.columns:\n",
    "    # Количество пустых значений \n",
    "    temp_null_count = data[data[col].isnull()].shape[0]\n",
    "    dt = str(data[col].dtype)\n",
    "    if temp_null_count>0 and (dt=='object'):\n",
    "        cat_cols.append(col)\n",
    "        temp_perc = round((temp_null_count / total_count) * 100.0, 2)\n",
    "        print('Колонка {}. Тип данных {}. Количество пустых значений {}, {}%.'.format(col, dt, temp_null_count, temp_perc))"
   ]
  },
  {
   "cell_type": "code",
   "execution_count": 28,
   "id": "italic-incident",
   "metadata": {},
   "outputs": [
    {
     "data": {
      "text/html": [
       "<div>\n",
       "<style scoped>\n",
       "    .dataframe tbody tr th:only-of-type {\n",
       "        vertical-align: middle;\n",
       "    }\n",
       "\n",
       "    .dataframe tbody tr th {\n",
       "        vertical-align: top;\n",
       "    }\n",
       "\n",
       "    .dataframe thead th {\n",
       "        text-align: right;\n",
       "    }\n",
       "</style>\n",
       "<table border=\"1\" class=\"dataframe\">\n",
       "  <thead>\n",
       "    <tr style=\"text-align: right;\">\n",
       "      <th></th>\n",
       "      <th>customer</th>\n",
       "    </tr>\n",
       "  </thead>\n",
       "  <tbody>\n",
       "    <tr>\n",
       "      <th>0</th>\n",
       "      <td>Reinger and Toy LLC</td>\n",
       "    </tr>\n",
       "    <tr>\n",
       "      <th>1</th>\n",
       "      <td>Gislason and Carter and Sons</td>\n",
       "    </tr>\n",
       "    <tr>\n",
       "      <th>2</th>\n",
       "      <td>Strosin and Sons</td>\n",
       "    </tr>\n",
       "    <tr>\n",
       "      <th>3</th>\n",
       "      <td>Wunsch and Douglas LLC</td>\n",
       "    </tr>\n",
       "    <tr>\n",
       "      <th>4</th>\n",
       "      <td>Dickinson LLC</td>\n",
       "    </tr>\n",
       "  </tbody>\n",
       "</table>\n",
       "</div>"
      ],
      "text/plain": [
       "                       customer\n",
       "0           Reinger and Toy LLC\n",
       "1  Gislason and Carter and Sons\n",
       "2              Strosin and Sons\n",
       "3        Wunsch and Douglas LLC\n",
       "4                 Dickinson LLC"
      ]
     },
     "execution_count": 28,
     "metadata": {},
     "output_type": "execute_result"
    }
   ],
   "source": [
    "cat_temp_data = data[['customer']]\n",
    "cat_temp_data.head()"
   ]
  },
  {
   "cell_type": "code",
   "execution_count": 29,
   "id": "understood-joshua",
   "metadata": {},
   "outputs": [
    {
     "data": {
      "text/plain": [
       "array(['Reinger and Toy LLC', 'Gislason and Carter and Sons',\n",
       "       'Strosin and Sons', ..., 'Hickle and Kuhlman LLC', 'Hamill Group',\n",
       "       'Cole and Fritsch Inc'], dtype=object)"
      ]
     },
     "execution_count": 29,
     "metadata": {},
     "output_type": "execute_result"
    }
   ],
   "source": [
    "cat_temp_data['customer'].unique()"
   ]
  },
  {
   "cell_type": "code",
   "execution_count": 30,
   "id": "valued-rogers",
   "metadata": {},
   "outputs": [
    {
     "data": {
      "text/plain": [
       "(272, 1)"
      ]
     },
     "execution_count": 30,
     "metadata": {},
     "output_type": "execute_result"
    }
   ],
   "source": [
    "cat_temp_data[cat_temp_data['customer'].isnull()].shape"
   ]
  },
  {
   "cell_type": "code",
   "execution_count": 31,
   "id": "blank-yahoo",
   "metadata": {},
   "outputs": [
    {
     "data": {
      "text/plain": [
       "array([['Reinger and Toy LLC'],\n",
       "       ['Gislason and Carter and Sons'],\n",
       "       ['Strosin and Sons'],\n",
       "       ...,\n",
       "       ['Hamill Group'],\n",
       "       ['Hodkiewicz and Sons'],\n",
       "       ['Cole and Fritsch Inc']], dtype=object)"
      ]
     },
     "execution_count": 31,
     "metadata": {},
     "output_type": "execute_result"
    }
   ],
   "source": [
    "# Импьютация наиболее частыми значениями\n",
    "imp2 = SimpleImputer(missing_values=np.nan, strategy='most_frequent')\n",
    "data_imp2 = imp2.fit_transform(cat_temp_data)\n",
    "data_imp2"
   ]
  },
  {
   "cell_type": "code",
   "execution_count": 32,
   "id": "reflected-injury",
   "metadata": {},
   "outputs": [
    {
     "data": {
      "text/plain": [
       "array(['Abbott Group', 'Abbott Inc', 'Abbott LLC', ...,\n",
       "       'Zulauf and Kovacek Group', 'Zulauf and Kunde Inc',\n",
       "       'Zulauf and Sons'], dtype=object)"
      ]
     },
     "execution_count": 32,
     "metadata": {},
     "output_type": "execute_result"
    }
   ],
   "source": [
    "# Пустые значения отсутствуют\n",
    "np.unique(data_imp2)"
   ]
  },
  {
   "cell_type": "code",
   "execution_count": 33,
   "id": "dominant-youth",
   "metadata": {},
   "outputs": [
    {
     "data": {
      "text/plain": [
       "array([['Reinger and Toy LLC'],\n",
       "       ['Gislason and Carter and Sons'],\n",
       "       ['Strosin and Sons'],\n",
       "       ...,\n",
       "       ['Hamill Group'],\n",
       "       ['Hodkiewicz and Sons'],\n",
       "       ['Cole and Fritsch Inc']], dtype=object)"
      ]
     },
     "execution_count": 33,
     "metadata": {},
     "output_type": "execute_result"
    }
   ],
   "source": [
    "# Импьютация константой\n",
    "imp3 = SimpleImputer(missing_values=np.nan, strategy='constant', fill_value='NA')\n",
    "data_imp3 = imp3.fit_transform(cat_temp_data)\n",
    "data_imp3"
   ]
  },
  {
   "cell_type": "code",
   "execution_count": 34,
   "id": "revolutionary-bubble",
   "metadata": {},
   "outputs": [
    {
     "data": {
      "text/plain": [
       "272"
      ]
     },
     "execution_count": 34,
     "metadata": {},
     "output_type": "execute_result"
    }
   ],
   "source": [
    "\n",
    "data_imp3[data_imp3=='NA'].size"
   ]
  },
  {
   "cell_type": "code",
   "execution_count": 35,
   "id": "published-ocean",
   "metadata": {},
   "outputs": [
    {
     "data": {
      "text/plain": [
       "array(['Abbott Group', 'Abbott Inc', 'Abbott LLC', ...,\n",
       "       'Zulauf and Kovacek Group', 'Zulauf and Kunde Inc',\n",
       "       'Zulauf and Sons'], dtype=object)"
      ]
     },
     "execution_count": 35,
     "metadata": {},
     "output_type": "execute_result"
    }
   ],
   "source": [
    "np.unique(data_imp3)"
   ]
  },
  {
   "cell_type": "markdown",
   "id": "faced-universal",
   "metadata": {},
   "source": [
    "## Преобразование категориальных признаков в числовые"
   ]
  },
  {
   "cell_type": "code",
   "execution_count": 36,
   "id": "clean-point",
   "metadata": {},
   "outputs": [
    {
     "data": {
      "text/html": [
       "<div>\n",
       "<style scoped>\n",
       "    .dataframe tbody tr th:only-of-type {\n",
       "        vertical-align: middle;\n",
       "    }\n",
       "\n",
       "    .dataframe tbody tr th {\n",
       "        vertical-align: top;\n",
       "    }\n",
       "\n",
       "    .dataframe thead th {\n",
       "        text-align: right;\n",
       "    }\n",
       "</style>\n",
       "<table border=\"1\" class=\"dataframe\">\n",
       "  <thead>\n",
       "    <tr style=\"text-align: right;\">\n",
       "      <th></th>\n",
       "      <th>c1</th>\n",
       "    </tr>\n",
       "  </thead>\n",
       "  <tbody>\n",
       "    <tr>\n",
       "      <th>0</th>\n",
       "      <td>Reinger and Toy LLC</td>\n",
       "    </tr>\n",
       "    <tr>\n",
       "      <th>1</th>\n",
       "      <td>Gislason and Carter and Sons</td>\n",
       "    </tr>\n",
       "    <tr>\n",
       "      <th>2</th>\n",
       "      <td>Strosin and Sons</td>\n",
       "    </tr>\n",
       "    <tr>\n",
       "      <th>3</th>\n",
       "      <td>Wunsch and Douglas LLC</td>\n",
       "    </tr>\n",
       "    <tr>\n",
       "      <th>4</th>\n",
       "      <td>Dickinson LLC</td>\n",
       "    </tr>\n",
       "    <tr>\n",
       "      <th>...</th>\n",
       "      <td>...</td>\n",
       "    </tr>\n",
       "    <tr>\n",
       "      <th>9996</th>\n",
       "      <td>Hickle and Kuhlman LLC</td>\n",
       "    </tr>\n",
       "    <tr>\n",
       "      <th>9997</th>\n",
       "      <td>Rath LLC</td>\n",
       "    </tr>\n",
       "    <tr>\n",
       "      <th>9998</th>\n",
       "      <td>Hamill Group</td>\n",
       "    </tr>\n",
       "    <tr>\n",
       "      <th>9999</th>\n",
       "      <td>Hodkiewicz and Sons</td>\n",
       "    </tr>\n",
       "    <tr>\n",
       "      <th>10000</th>\n",
       "      <td>Cole and Fritsch Inc</td>\n",
       "    </tr>\n",
       "  </tbody>\n",
       "</table>\n",
       "<p>10001 rows × 1 columns</p>\n",
       "</div>"
      ],
      "text/plain": [
       "                                 c1\n",
       "0               Reinger and Toy LLC\n",
       "1      Gislason and Carter and Sons\n",
       "2                  Strosin and Sons\n",
       "3            Wunsch and Douglas LLC\n",
       "4                     Dickinson LLC\n",
       "...                             ...\n",
       "9996         Hickle and Kuhlman LLC\n",
       "9997                       Rath LLC\n",
       "9998                   Hamill Group\n",
       "9999            Hodkiewicz and Sons\n",
       "10000          Cole and Fritsch Inc\n",
       "\n",
       "[10001 rows x 1 columns]"
      ]
     },
     "execution_count": 36,
     "metadata": {},
     "output_type": "execute_result"
    }
   ],
   "source": [
    "cat_enc = pd.DataFrame({'c1':data_imp2.T[0]})\n",
    "cat_enc"
   ]
  },
  {
   "cell_type": "markdown",
   "id": "dirty-soviet",
   "metadata": {},
   "source": [
    "# "
   ]
  },
  {
   "cell_type": "markdown",
   "id": "sacred-ordering",
   "metadata": {},
   "source": [
    "## Кодирование категорий целочисленными значениями - label encoding"
   ]
  },
  {
   "cell_type": "code",
   "execution_count": 37,
   "id": "limited-season",
   "metadata": {},
   "outputs": [],
   "source": [
    "from sklearn.preprocessing import LabelEncoder, OneHotEncoder"
   ]
  },
  {
   "cell_type": "code",
   "execution_count": 38,
   "id": "favorite-fence",
   "metadata": {},
   "outputs": [],
   "source": [
    "le = LabelEncoder()\n",
    "cat_enc_le = le.fit_transform(cat_enc['c1'])"
   ]
  },
  {
   "cell_type": "code",
   "execution_count": 39,
   "id": "wooden-happiness",
   "metadata": {},
   "outputs": [
    {
     "data": {
      "text/plain": [
       "array(['Reinger and Toy LLC', 'Gislason and Carter and Sons',\n",
       "       'Strosin and Sons', ..., 'Hickle and Kuhlman LLC', 'Hamill Group',\n",
       "       'Cole and Fritsch Inc'], dtype=object)"
      ]
     },
     "execution_count": 39,
     "metadata": {},
     "output_type": "execute_result"
    }
   ],
   "source": [
    "cat_enc['c1'].unique()"
   ]
  },
  {
   "cell_type": "code",
   "execution_count": 40,
   "id": "acceptable-cancellation",
   "metadata": {},
   "outputs": [
    {
     "data": {
      "text/plain": [
       "array([   0,    1,    2, ..., 6619, 6620, 6621])"
      ]
     },
     "execution_count": 40,
     "metadata": {},
     "output_type": "execute_result"
    }
   ],
   "source": [
    "np.unique(cat_enc_le)"
   ]
  },
  {
   "cell_type": "code",
   "execution_count": 41,
   "id": "chicken-sheet",
   "metadata": {},
   "outputs": [
    {
     "data": {
      "text/plain": [
       "array(['Abbott Group', 'Abbott Inc', 'Abbott LLC',\n",
       "       'Abbott and Christiansen Inc'], dtype=object)"
      ]
     },
     "execution_count": 41,
     "metadata": {},
     "output_type": "execute_result"
    }
   ],
   "source": [
    "le.inverse_transform([0, 1, 2, 3])"
   ]
  },
  {
   "cell_type": "markdown",
   "id": "biological-abraham",
   "metadata": {},
   "source": [
    "## Кодирование категорий наборами бинарных значений -"
   ]
  },
  {
   "cell_type": "code",
   "execution_count": 42,
   "id": "short-result",
   "metadata": {},
   "outputs": [],
   "source": [
    "ohe = OneHotEncoder()\n",
    "cat_enc_ohe = ohe.fit_transform(cat_enc[['c1']])"
   ]
  },
  {
   "cell_type": "code",
   "execution_count": 43,
   "id": "turned-sheep",
   "metadata": {},
   "outputs": [
    {
     "data": {
      "text/plain": [
       "(10001, 1)"
      ]
     },
     "execution_count": 43,
     "metadata": {},
     "output_type": "execute_result"
    }
   ],
   "source": [
    "cat_enc.shape"
   ]
  },
  {
   "cell_type": "code",
   "execution_count": 44,
   "id": "driving-stupid",
   "metadata": {},
   "outputs": [
    {
     "data": {
      "text/plain": [
       "(10001, 6622)"
      ]
     },
     "execution_count": 44,
     "metadata": {},
     "output_type": "execute_result"
    }
   ],
   "source": [
    "cat_enc_ohe.shape"
   ]
  },
  {
   "cell_type": "code",
   "execution_count": 45,
   "id": "combined-praise",
   "metadata": {},
   "outputs": [
    {
     "data": {
      "text/plain": [
       "<10001x6622 sparse matrix of type '<class 'numpy.float64'>'\n",
       "\twith 10001 stored elements in Compressed Sparse Row format>"
      ]
     },
     "execution_count": 45,
     "metadata": {},
     "output_type": "execute_result"
    }
   ],
   "source": [
    "cat_enc_ohe"
   ]
  },
  {
   "cell_type": "code",
   "execution_count": 46,
   "id": "incorrect-privilege",
   "metadata": {},
   "outputs": [
    {
     "data": {
      "text/plain": [
       "matrix([[0., 0., 0., ..., 0., 0., 0.],\n",
       "        [0., 0., 0., ..., 0., 0., 0.],\n",
       "        [0., 0., 0., ..., 0., 0., 0.],\n",
       "        ...,\n",
       "        [0., 0., 0., ..., 0., 0., 0.],\n",
       "        [0., 0., 0., ..., 0., 0., 0.],\n",
       "        [0., 0., 0., ..., 0., 0., 0.]])"
      ]
     },
     "execution_count": 46,
     "metadata": {},
     "output_type": "execute_result"
    }
   ],
   "source": [
    "cat_enc_ohe.todense()[0:10]"
   ]
  },
  {
   "cell_type": "code",
   "execution_count": 47,
   "id": "genetic-typing",
   "metadata": {},
   "outputs": [
    {
     "data": {
      "text/html": [
       "<div>\n",
       "<style scoped>\n",
       "    .dataframe tbody tr th:only-of-type {\n",
       "        vertical-align: middle;\n",
       "    }\n",
       "\n",
       "    .dataframe tbody tr th {\n",
       "        vertical-align: top;\n",
       "    }\n",
       "\n",
       "    .dataframe thead th {\n",
       "        text-align: right;\n",
       "    }\n",
       "</style>\n",
       "<table border=\"1\" class=\"dataframe\">\n",
       "  <thead>\n",
       "    <tr style=\"text-align: right;\">\n",
       "      <th></th>\n",
       "      <th>c1</th>\n",
       "    </tr>\n",
       "  </thead>\n",
       "  <tbody>\n",
       "    <tr>\n",
       "      <th>0</th>\n",
       "      <td>Reinger and Toy LLC</td>\n",
       "    </tr>\n",
       "    <tr>\n",
       "      <th>1</th>\n",
       "      <td>Gislason and Carter and Sons</td>\n",
       "    </tr>\n",
       "    <tr>\n",
       "      <th>2</th>\n",
       "      <td>Strosin and Sons</td>\n",
       "    </tr>\n",
       "    <tr>\n",
       "      <th>3</th>\n",
       "      <td>Wunsch and Douglas LLC</td>\n",
       "    </tr>\n",
       "    <tr>\n",
       "      <th>4</th>\n",
       "      <td>Dickinson LLC</td>\n",
       "    </tr>\n",
       "    <tr>\n",
       "      <th>5</th>\n",
       "      <td>Turcotte Group</td>\n",
       "    </tr>\n",
       "    <tr>\n",
       "      <th>6</th>\n",
       "      <td>Pollich LLC</td>\n",
       "    </tr>\n",
       "    <tr>\n",
       "      <th>7</th>\n",
       "      <td>Mertz LLC</td>\n",
       "    </tr>\n",
       "    <tr>\n",
       "      <th>8</th>\n",
       "      <td>Tromp and Wisoky Inc</td>\n",
       "    </tr>\n",
       "    <tr>\n",
       "      <th>9</th>\n",
       "      <td>Schuppe and Sons</td>\n",
       "    </tr>\n",
       "  </tbody>\n",
       "</table>\n",
       "</div>"
      ],
      "text/plain": [
       "                             c1\n",
       "0           Reinger and Toy LLC\n",
       "1  Gislason and Carter and Sons\n",
       "2              Strosin and Sons\n",
       "3        Wunsch and Douglas LLC\n",
       "4                 Dickinson LLC\n",
       "5                Turcotte Group\n",
       "6                   Pollich LLC\n",
       "7                     Mertz LLC\n",
       "8          Tromp and Wisoky Inc\n",
       "9              Schuppe and Sons"
      ]
     },
     "execution_count": 47,
     "metadata": {},
     "output_type": "execute_result"
    }
   ],
   "source": [
    "cat_enc.head(10)"
   ]
  },
  {
   "cell_type": "markdown",
   "id": "occupational-jewelry",
   "metadata": {},
   "source": [
    "## Pandas get_dummies - быстрый вариант one-hot кодирования"
   ]
  },
  {
   "cell_type": "code",
   "execution_count": 48,
   "id": "reserved-marina",
   "metadata": {},
   "outputs": [
    {
     "data": {
      "text/html": [
       "<div>\n",
       "<style scoped>\n",
       "    .dataframe tbody tr th:only-of-type {\n",
       "        vertical-align: middle;\n",
       "    }\n",
       "\n",
       "    .dataframe tbody tr th {\n",
       "        vertical-align: top;\n",
       "    }\n",
       "\n",
       "    .dataframe thead th {\n",
       "        text-align: right;\n",
       "    }\n",
       "</style>\n",
       "<table border=\"1\" class=\"dataframe\">\n",
       "  <thead>\n",
       "    <tr style=\"text-align: right;\">\n",
       "      <th></th>\n",
       "      <th>c1_Abbott Group</th>\n",
       "      <th>c1_Abbott Inc</th>\n",
       "      <th>c1_Abbott LLC</th>\n",
       "      <th>c1_Abbott and Christiansen Inc</th>\n",
       "      <th>c1_Abbott and Emmerich Group</th>\n",
       "      <th>c1_Abbott and Hagenes and Sons</th>\n",
       "      <th>c1_Abbott and Herman Inc</th>\n",
       "      <th>c1_Abbott and McGlynn LLC</th>\n",
       "      <th>c1_Abbott and Rolfson and Sons</th>\n",
       "      <th>c1_Abbott and Sons</th>\n",
       "      <th>...</th>\n",
       "      <th>c1_Zieme and Schoen Group</th>\n",
       "      <th>c1_Zieme and Sons</th>\n",
       "      <th>c1_Zulauf Group</th>\n",
       "      <th>c1_Zulauf Inc</th>\n",
       "      <th>c1_Zulauf LLC</th>\n",
       "      <th>c1_Zulauf and Conn Inc</th>\n",
       "      <th>c1_Zulauf and Gerhold and Sons</th>\n",
       "      <th>c1_Zulauf and Kovacek Group</th>\n",
       "      <th>c1_Zulauf and Kunde Inc</th>\n",
       "      <th>c1_Zulauf and Sons</th>\n",
       "    </tr>\n",
       "  </thead>\n",
       "  <tbody>\n",
       "    <tr>\n",
       "      <th>0</th>\n",
       "      <td>0</td>\n",
       "      <td>0</td>\n",
       "      <td>0</td>\n",
       "      <td>0</td>\n",
       "      <td>0</td>\n",
       "      <td>0</td>\n",
       "      <td>0</td>\n",
       "      <td>0</td>\n",
       "      <td>0</td>\n",
       "      <td>0</td>\n",
       "      <td>...</td>\n",
       "      <td>0</td>\n",
       "      <td>0</td>\n",
       "      <td>0</td>\n",
       "      <td>0</td>\n",
       "      <td>0</td>\n",
       "      <td>0</td>\n",
       "      <td>0</td>\n",
       "      <td>0</td>\n",
       "      <td>0</td>\n",
       "      <td>0</td>\n",
       "    </tr>\n",
       "    <tr>\n",
       "      <th>1</th>\n",
       "      <td>0</td>\n",
       "      <td>0</td>\n",
       "      <td>0</td>\n",
       "      <td>0</td>\n",
       "      <td>0</td>\n",
       "      <td>0</td>\n",
       "      <td>0</td>\n",
       "      <td>0</td>\n",
       "      <td>0</td>\n",
       "      <td>0</td>\n",
       "      <td>...</td>\n",
       "      <td>0</td>\n",
       "      <td>0</td>\n",
       "      <td>0</td>\n",
       "      <td>0</td>\n",
       "      <td>0</td>\n",
       "      <td>0</td>\n",
       "      <td>0</td>\n",
       "      <td>0</td>\n",
       "      <td>0</td>\n",
       "      <td>0</td>\n",
       "    </tr>\n",
       "    <tr>\n",
       "      <th>2</th>\n",
       "      <td>0</td>\n",
       "      <td>0</td>\n",
       "      <td>0</td>\n",
       "      <td>0</td>\n",
       "      <td>0</td>\n",
       "      <td>0</td>\n",
       "      <td>0</td>\n",
       "      <td>0</td>\n",
       "      <td>0</td>\n",
       "      <td>0</td>\n",
       "      <td>...</td>\n",
       "      <td>0</td>\n",
       "      <td>0</td>\n",
       "      <td>0</td>\n",
       "      <td>0</td>\n",
       "      <td>0</td>\n",
       "      <td>0</td>\n",
       "      <td>0</td>\n",
       "      <td>0</td>\n",
       "      <td>0</td>\n",
       "      <td>0</td>\n",
       "    </tr>\n",
       "    <tr>\n",
       "      <th>3</th>\n",
       "      <td>0</td>\n",
       "      <td>0</td>\n",
       "      <td>0</td>\n",
       "      <td>0</td>\n",
       "      <td>0</td>\n",
       "      <td>0</td>\n",
       "      <td>0</td>\n",
       "      <td>0</td>\n",
       "      <td>0</td>\n",
       "      <td>0</td>\n",
       "      <td>...</td>\n",
       "      <td>0</td>\n",
       "      <td>0</td>\n",
       "      <td>0</td>\n",
       "      <td>0</td>\n",
       "      <td>0</td>\n",
       "      <td>0</td>\n",
       "      <td>0</td>\n",
       "      <td>0</td>\n",
       "      <td>0</td>\n",
       "      <td>0</td>\n",
       "    </tr>\n",
       "    <tr>\n",
       "      <th>4</th>\n",
       "      <td>0</td>\n",
       "      <td>0</td>\n",
       "      <td>0</td>\n",
       "      <td>0</td>\n",
       "      <td>0</td>\n",
       "      <td>0</td>\n",
       "      <td>0</td>\n",
       "      <td>0</td>\n",
       "      <td>0</td>\n",
       "      <td>0</td>\n",
       "      <td>...</td>\n",
       "      <td>0</td>\n",
       "      <td>0</td>\n",
       "      <td>0</td>\n",
       "      <td>0</td>\n",
       "      <td>0</td>\n",
       "      <td>0</td>\n",
       "      <td>0</td>\n",
       "      <td>0</td>\n",
       "      <td>0</td>\n",
       "      <td>0</td>\n",
       "    </tr>\n",
       "  </tbody>\n",
       "</table>\n",
       "<p>5 rows × 6622 columns</p>\n",
       "</div>"
      ],
      "text/plain": [
       "   c1_Abbott Group  c1_Abbott Inc  c1_Abbott LLC  \\\n",
       "0                0              0              0   \n",
       "1                0              0              0   \n",
       "2                0              0              0   \n",
       "3                0              0              0   \n",
       "4                0              0              0   \n",
       "\n",
       "   c1_Abbott and Christiansen Inc  c1_Abbott and Emmerich Group  \\\n",
       "0                               0                             0   \n",
       "1                               0                             0   \n",
       "2                               0                             0   \n",
       "3                               0                             0   \n",
       "4                               0                             0   \n",
       "\n",
       "   c1_Abbott and Hagenes and Sons  c1_Abbott and Herman Inc  \\\n",
       "0                               0                         0   \n",
       "1                               0                         0   \n",
       "2                               0                         0   \n",
       "3                               0                         0   \n",
       "4                               0                         0   \n",
       "\n",
       "   c1_Abbott and McGlynn LLC  c1_Abbott and Rolfson and Sons  \\\n",
       "0                          0                               0   \n",
       "1                          0                               0   \n",
       "2                          0                               0   \n",
       "3                          0                               0   \n",
       "4                          0                               0   \n",
       "\n",
       "   c1_Abbott and Sons  ...  c1_Zieme and Schoen Group  c1_Zieme and Sons  \\\n",
       "0                   0  ...                          0                  0   \n",
       "1                   0  ...                          0                  0   \n",
       "2                   0  ...                          0                  0   \n",
       "3                   0  ...                          0                  0   \n",
       "4                   0  ...                          0                  0   \n",
       "\n",
       "   c1_Zulauf Group  c1_Zulauf Inc  c1_Zulauf LLC  c1_Zulauf and Conn Inc  \\\n",
       "0                0              0              0                       0   \n",
       "1                0              0              0                       0   \n",
       "2                0              0              0                       0   \n",
       "3                0              0              0                       0   \n",
       "4                0              0              0                       0   \n",
       "\n",
       "   c1_Zulauf and Gerhold and Sons  c1_Zulauf and Kovacek Group  \\\n",
       "0                               0                            0   \n",
       "1                               0                            0   \n",
       "2                               0                            0   \n",
       "3                               0                            0   \n",
       "4                               0                            0   \n",
       "\n",
       "   c1_Zulauf and Kunde Inc  c1_Zulauf and Sons  \n",
       "0                        0                   0  \n",
       "1                        0                   0  \n",
       "2                        0                   0  \n",
       "3                        0                   0  \n",
       "4                        0                   0  \n",
       "\n",
       "[5 rows x 6622 columns]"
      ]
     },
     "execution_count": 48,
     "metadata": {},
     "output_type": "execute_result"
    }
   ],
   "source": [
    "pd.get_dummies(cat_enc).head()"
   ]
  },
  {
   "cell_type": "code",
   "execution_count": 49,
   "id": "hollow-homeless",
   "metadata": {},
   "outputs": [
    {
     "data": {
      "text/html": [
       "<div>\n",
       "<style scoped>\n",
       "    .dataframe tbody tr th:only-of-type {\n",
       "        vertical-align: middle;\n",
       "    }\n",
       "\n",
       "    .dataframe tbody tr th {\n",
       "        vertical-align: top;\n",
       "    }\n",
       "\n",
       "    .dataframe thead th {\n",
       "        text-align: right;\n",
       "    }\n",
       "</style>\n",
       "<table border=\"1\" class=\"dataframe\">\n",
       "  <thead>\n",
       "    <tr style=\"text-align: right;\">\n",
       "      <th></th>\n",
       "      <th>customer_Abbott Group</th>\n",
       "      <th>customer_Abbott Inc</th>\n",
       "      <th>customer_Abbott LLC</th>\n",
       "      <th>customer_Abbott and Christiansen Inc</th>\n",
       "      <th>customer_Abbott and Emmerich Group</th>\n",
       "      <th>customer_Abbott and Hagenes and Sons</th>\n",
       "      <th>customer_Abbott and Herman Inc</th>\n",
       "      <th>customer_Abbott and McGlynn LLC</th>\n",
       "      <th>customer_Abbott and Rolfson and Sons</th>\n",
       "      <th>customer_Abbott and Sons</th>\n",
       "      <th>...</th>\n",
       "      <th>customer_Zieme and Sons</th>\n",
       "      <th>customer_Zulauf Group</th>\n",
       "      <th>customer_Zulauf Inc</th>\n",
       "      <th>customer_Zulauf LLC</th>\n",
       "      <th>customer_Zulauf and Conn Inc</th>\n",
       "      <th>customer_Zulauf and Gerhold and Sons</th>\n",
       "      <th>customer_Zulauf and Kovacek Group</th>\n",
       "      <th>customer_Zulauf and Kunde Inc</th>\n",
       "      <th>customer_Zulauf and Sons</th>\n",
       "      <th>customer_nan</th>\n",
       "    </tr>\n",
       "  </thead>\n",
       "  <tbody>\n",
       "    <tr>\n",
       "      <th>0</th>\n",
       "      <td>0</td>\n",
       "      <td>0</td>\n",
       "      <td>0</td>\n",
       "      <td>0</td>\n",
       "      <td>0</td>\n",
       "      <td>0</td>\n",
       "      <td>0</td>\n",
       "      <td>0</td>\n",
       "      <td>0</td>\n",
       "      <td>0</td>\n",
       "      <td>...</td>\n",
       "      <td>0</td>\n",
       "      <td>0</td>\n",
       "      <td>0</td>\n",
       "      <td>0</td>\n",
       "      <td>0</td>\n",
       "      <td>0</td>\n",
       "      <td>0</td>\n",
       "      <td>0</td>\n",
       "      <td>0</td>\n",
       "      <td>0</td>\n",
       "    </tr>\n",
       "    <tr>\n",
       "      <th>1</th>\n",
       "      <td>0</td>\n",
       "      <td>0</td>\n",
       "      <td>0</td>\n",
       "      <td>0</td>\n",
       "      <td>0</td>\n",
       "      <td>0</td>\n",
       "      <td>0</td>\n",
       "      <td>0</td>\n",
       "      <td>0</td>\n",
       "      <td>0</td>\n",
       "      <td>...</td>\n",
       "      <td>0</td>\n",
       "      <td>0</td>\n",
       "      <td>0</td>\n",
       "      <td>0</td>\n",
       "      <td>0</td>\n",
       "      <td>0</td>\n",
       "      <td>0</td>\n",
       "      <td>0</td>\n",
       "      <td>0</td>\n",
       "      <td>0</td>\n",
       "    </tr>\n",
       "    <tr>\n",
       "      <th>2</th>\n",
       "      <td>0</td>\n",
       "      <td>0</td>\n",
       "      <td>0</td>\n",
       "      <td>0</td>\n",
       "      <td>0</td>\n",
       "      <td>0</td>\n",
       "      <td>0</td>\n",
       "      <td>0</td>\n",
       "      <td>0</td>\n",
       "      <td>0</td>\n",
       "      <td>...</td>\n",
       "      <td>0</td>\n",
       "      <td>0</td>\n",
       "      <td>0</td>\n",
       "      <td>0</td>\n",
       "      <td>0</td>\n",
       "      <td>0</td>\n",
       "      <td>0</td>\n",
       "      <td>0</td>\n",
       "      <td>0</td>\n",
       "      <td>0</td>\n",
       "    </tr>\n",
       "    <tr>\n",
       "      <th>3</th>\n",
       "      <td>0</td>\n",
       "      <td>0</td>\n",
       "      <td>0</td>\n",
       "      <td>0</td>\n",
       "      <td>0</td>\n",
       "      <td>0</td>\n",
       "      <td>0</td>\n",
       "      <td>0</td>\n",
       "      <td>0</td>\n",
       "      <td>0</td>\n",
       "      <td>...</td>\n",
       "      <td>0</td>\n",
       "      <td>0</td>\n",
       "      <td>0</td>\n",
       "      <td>0</td>\n",
       "      <td>0</td>\n",
       "      <td>0</td>\n",
       "      <td>0</td>\n",
       "      <td>0</td>\n",
       "      <td>0</td>\n",
       "      <td>0</td>\n",
       "    </tr>\n",
       "    <tr>\n",
       "      <th>4</th>\n",
       "      <td>0</td>\n",
       "      <td>0</td>\n",
       "      <td>0</td>\n",
       "      <td>0</td>\n",
       "      <td>0</td>\n",
       "      <td>0</td>\n",
       "      <td>0</td>\n",
       "      <td>0</td>\n",
       "      <td>0</td>\n",
       "      <td>0</td>\n",
       "      <td>...</td>\n",
       "      <td>0</td>\n",
       "      <td>0</td>\n",
       "      <td>0</td>\n",
       "      <td>0</td>\n",
       "      <td>0</td>\n",
       "      <td>0</td>\n",
       "      <td>0</td>\n",
       "      <td>0</td>\n",
       "      <td>0</td>\n",
       "      <td>0</td>\n",
       "    </tr>\n",
       "  </tbody>\n",
       "</table>\n",
       "<p>5 rows × 6623 columns</p>\n",
       "</div>"
      ],
      "text/plain": [
       "   customer_Abbott Group  customer_Abbott Inc  customer_Abbott LLC  \\\n",
       "0                      0                    0                    0   \n",
       "1                      0                    0                    0   \n",
       "2                      0                    0                    0   \n",
       "3                      0                    0                    0   \n",
       "4                      0                    0                    0   \n",
       "\n",
       "   customer_Abbott and Christiansen Inc  customer_Abbott and Emmerich Group  \\\n",
       "0                                     0                                   0   \n",
       "1                                     0                                   0   \n",
       "2                                     0                                   0   \n",
       "3                                     0                                   0   \n",
       "4                                     0                                   0   \n",
       "\n",
       "   customer_Abbott and Hagenes and Sons  customer_Abbott and Herman Inc  \\\n",
       "0                                     0                               0   \n",
       "1                                     0                               0   \n",
       "2                                     0                               0   \n",
       "3                                     0                               0   \n",
       "4                                     0                               0   \n",
       "\n",
       "   customer_Abbott and McGlynn LLC  customer_Abbott and Rolfson and Sons  \\\n",
       "0                                0                                     0   \n",
       "1                                0                                     0   \n",
       "2                                0                                     0   \n",
       "3                                0                                     0   \n",
       "4                                0                                     0   \n",
       "\n",
       "   customer_Abbott and Sons  ...  customer_Zieme and Sons  \\\n",
       "0                         0  ...                        0   \n",
       "1                         0  ...                        0   \n",
       "2                         0  ...                        0   \n",
       "3                         0  ...                        0   \n",
       "4                         0  ...                        0   \n",
       "\n",
       "   customer_Zulauf Group  customer_Zulauf Inc  customer_Zulauf LLC  \\\n",
       "0                      0                    0                    0   \n",
       "1                      0                    0                    0   \n",
       "2                      0                    0                    0   \n",
       "3                      0                    0                    0   \n",
       "4                      0                    0                    0   \n",
       "\n",
       "   customer_Zulauf and Conn Inc  customer_Zulauf and Gerhold and Sons  \\\n",
       "0                             0                                     0   \n",
       "1                             0                                     0   \n",
       "2                             0                                     0   \n",
       "3                             0                                     0   \n",
       "4                             0                                     0   \n",
       "\n",
       "   customer_Zulauf and Kovacek Group  customer_Zulauf and Kunde Inc  \\\n",
       "0                                  0                              0   \n",
       "1                                  0                              0   \n",
       "2                                  0                              0   \n",
       "3                                  0                              0   \n",
       "4                                  0                              0   \n",
       "\n",
       "   customer_Zulauf and Sons  customer_nan  \n",
       "0                         0             0  \n",
       "1                         0             0  \n",
       "2                         0             0  \n",
       "3                         0             0  \n",
       "4                         0             0  \n",
       "\n",
       "[5 rows x 6623 columns]"
      ]
     },
     "execution_count": 49,
     "metadata": {},
     "output_type": "execute_result"
    }
   ],
   "source": [
    "pd.get_dummies(cat_temp_data, dummy_na=True).head()"
   ]
  },
  {
   "cell_type": "markdown",
   "id": "hairy-sally",
   "metadata": {},
   "source": [
    "# Масштабирование данных"
   ]
  },
  {
   "cell_type": "code",
   "execution_count": 50,
   "id": "blind-sucking",
   "metadata": {},
   "outputs": [],
   "source": [
    "from sklearn.preprocessing import MinMaxScaler, StandardScaler, Normalizer"
   ]
  },
  {
   "cell_type": "markdown",
   "id": "advance-hurricane",
   "metadata": {},
   "source": [
    "## MinMax"
   ]
  },
  {
   "cell_type": "code",
   "execution_count": 51,
   "id": "stuffed-minimum",
   "metadata": {},
   "outputs": [],
   "source": [
    "sc1 = MinMaxScaler()\n",
    "sc1_data = sc1.fit_transform(data[['my_float']])"
   ]
  },
  {
   "cell_type": "code",
   "execution_count": 52,
   "id": "bound-consequence",
   "metadata": {},
   "outputs": [
    {
     "data": {
      "image/png": "[encoded data removed]",
      "text/plain": [
       "<Figure size 432x288 with 1 Axes>"
      ]
     },
     "metadata": {},
     "output_type": "display_data"
    }
   ],
   "source": [
    "plt.hist(data['my_float'])\n",
    "plt.show()"
   ]
  },
  {
   "cell_type": "code",
   "execution_count": 53,
   "id": "framed-sender",
   "metadata": {},
   "outputs": [
    {
     "data": {
      "image/png": "[encoded data removed]",
      "text/plain": [
       "<Figure size 432x288 with 1 Axes>"
      ]
     },
     "metadata": {},
     "output_type": "display_data"
    }
   ],
   "source": [
    "plt.hist(sc1_data)\n",
    "plt.show()"
   ]
  },
  {
   "cell_type": "markdown",
   "id": "legitimate-invalid",
   "metadata": {},
   "source": [
    "## Масштабирование данных на основе Z-оценки - StandardScaler"
   ]
  },
  {
   "cell_type": "code",
   "execution_count": 54,
   "id": "amended-perception",
   "metadata": {},
   "outputs": [],
   "source": [
    "sc2 = StandardScaler()\n",
    "sc2_data = sc2.fit_transform(data[['my_float']])"
   ]
  },
  {
   "cell_type": "code",
   "execution_count": 55,
   "id": "developed-princeton",
   "metadata": {},
   "outputs": [
    {
     "data": {
      "image/png": "[encoded data removed]",
      "text/plain": [
       "<Figure size 432x288 with 1 Axes>"
      ]
     },
     "metadata": {},
     "output_type": "display_data"
    }
   ],
   "source": [
    "plt.hist(sc2_data)\n",
    "plt.show()"
   ]
  },
  {
   "cell_type": "code",
   "execution_count": null,
   "id": "waiting-round",
   "metadata": {},
   "outputs": [],
   "source": []
  }
 ],
 "metadata": {
  "kernelspec": {
   "display_name": "Python 3",
   "language": "python",
   "name": "python3"
  },
  "language_info": {
   "codemirror_mode": {
    "name": "ipython",
    "version": 3
   },
   "file_extension": ".py",
   "mimetype": "text/x-python",
   "name": "python",
   "nbconvert_exporter": "python",
   "pygments_lexer": "ipython3",
   "version": "3.9.4"
  }
 },
 "nbformat": 4,
 "nbformat_minor": 5
}
